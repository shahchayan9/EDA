{
  "cells": [
    {
      "cell_type": "markdown",
      "metadata": {
        "id": "view-in-github",
        "colab_type": "text"
      },
      "source": [
        "<a href=\"https://colab.research.google.com/github/shahchayan9/EDA/blob/main/Tabular_Dataset.ipynb\" target=\"_parent\"><img src=\"https://colab.research.google.com/assets/colab-badge.svg\" alt=\"Open In Colab\"/></a>"
      ]
    },
    {
      "cell_type": "code",
      "execution_count": 2,
      "metadata": {
        "id": "niinKLfjgwgV"
      },
      "outputs": [],
      "source": [
        "import pandas as pd\n",
        "df = pd.read_csv('city_temperature.csv')"
      ]
    },
    {
      "cell_type": "code",
      "execution_count": 3,
      "metadata": {
        "colab": {
          "base_uri": "https://localhost:8080/"
        },
        "id": "eBCCvgYrg3mf",
        "outputId": "6226c137-4245-483f-9dd4-9fad11be116d"
      },
      "outputs": [
        {
          "output_type": "stream",
          "name": "stdout",
          "text": [
            "<class 'pandas.core.frame.DataFrame'>\n",
            "RangeIndex: 9143 entries, 0 to 9142\n",
            "Data columns (total 8 columns):\n",
            " #   Column          Non-Null Count  Dtype  \n",
            "---  ------          --------------  -----  \n",
            " 0   Region          9143 non-null   object \n",
            " 1   Country         9143 non-null   object \n",
            " 2   State           0 non-null      float64\n",
            " 3   City            9143 non-null   object \n",
            " 4   Month           9143 non-null   int64  \n",
            " 5   Day             9143 non-null   int64  \n",
            " 6   Year            9143 non-null   int64  \n",
            " 7   AvgTemperature  9143 non-null   float64\n",
            "dtypes: float64(2), int64(3), object(3)\n",
            "memory usage: 571.6+ KB\n",
            "None\n",
            "       State        Month          Day         Year  AvgTemperature\n",
            "count    0.0  9143.000000  9143.000000  9143.000000     9143.000000\n",
            "mean     NaN     6.517008    15.719129  2007.015859       63.821809\n",
            "std      NaN     3.452384     8.803059     7.221128       14.796373\n",
            "min      NaN     1.000000     1.000000  1995.000000      -99.000000\n",
            "25%      NaN     4.000000     8.000000  2001.000000       55.100000\n",
            "50%      NaN     7.000000    16.000000  2007.000000       63.500000\n",
            "75%      NaN    10.000000    23.000000  2013.000000       74.000000\n",
            "max      NaN    12.000000    31.000000  2020.000000       96.600000\n",
            "Region               0\n",
            "Country              0\n",
            "State             9143\n",
            "City                 0\n",
            "Month                0\n",
            "Day                  0\n",
            "Year                 0\n",
            "AvgTemperature       0\n",
            "dtype: int64\n"
          ]
        }
      ],
      "source": [
        "print(df.info())\n",
        "print(df.describe())\n",
        "print(df.isnull().sum())"
      ]
    },
    {
      "cell_type": "code",
      "execution_count": 4,
      "metadata": {
        "id": "-7w50DQohDSd"
      },
      "outputs": [],
      "source": [
        "df.drop(columns=['State'], inplace=True)"
      ]
    },
    {
      "cell_type": "code",
      "execution_count": 5,
      "metadata": {
        "id": "Gd6zImCshMv9"
      },
      "outputs": [],
      "source": [
        "df.dropna(inplace=True)"
      ]
    },
    {
      "cell_type": "code",
      "execution_count": 6,
      "metadata": {
        "id": "qOxydqthhOx8"
      },
      "outputs": [],
      "source": [
        "df['Month'] = df['Month'].astype(int)\n",
        "df['Day'] = df['Day'].astype(int)\n",
        "df['Year'] = df['Year'].astype(int)"
      ]
    },
    {
      "cell_type": "code",
      "execution_count": 7,
      "metadata": {
        "colab": {
          "base_uri": "https://localhost:8080/"
        },
        "id": "MURzLd39hQev",
        "outputId": "04ab5f00-8508-40a4-8851-e49c31f2caf7"
      },
      "outputs": [
        {
          "output_type": "stream",
          "name": "stdout",
          "text": [
            "Empty DataFrame\n",
            "Columns: [Region, Country, City, Month, Day, Year, AvgTemperature, Date]\n",
            "Index: []\n"
          ]
        }
      ],
      "source": [
        "# Check for invalid date rows by attempting to convert with errors set to 'coerce'\n",
        "df['Date'] = pd.to_datetime(df[['Year', 'Month', 'Day']], errors='coerce')\n",
        "\n",
        "# Find rows where 'Date' is NaT (Not a Time) due to invalid date values\n",
        "invalid_dates = df[df['Date'].isna()]\n",
        "print(invalid_dates)\n"
      ]
    },
    {
      "cell_type": "code",
      "execution_count": 8,
      "metadata": {
        "id": "cb509hdrhSHT"
      },
      "outputs": [],
      "source": [
        "# Drop rows with invalid 'Date' values\n",
        "df = df.dropna(subset=['Date'])\n"
      ]
    },
    {
      "cell_type": "code",
      "execution_count": 9,
      "metadata": {
        "id": "azW0vMEshivN"
      },
      "outputs": [],
      "source": [
        "df.set_index('Date', inplace=True)"
      ]
    },
    {
      "cell_type": "code",
      "execution_count": 10,
      "metadata": {
        "colab": {
          "base_uri": "https://localhost:8080/"
        },
        "id": "eZXvDN1OhjOW",
        "outputId": "0517839a-a883-46df-f719-3abcde961b95"
      },
      "outputs": [
        {
          "output_type": "stream",
          "name": "stdout",
          "text": [
            "<class 'pandas.core.frame.DataFrame'>\n",
            "DatetimeIndex: 9143 entries, 1995-01-01 to 2020-01-11\n",
            "Data columns (total 7 columns):\n",
            " #   Column          Non-Null Count  Dtype  \n",
            "---  ------          --------------  -----  \n",
            " 0   Region          9143 non-null   object \n",
            " 1   Country         9143 non-null   object \n",
            " 2   City            9143 non-null   object \n",
            " 3   Month           9143 non-null   int64  \n",
            " 4   Day             9143 non-null   int64  \n",
            " 5   Year            9143 non-null   int64  \n",
            " 6   AvgTemperature  9143 non-null   float64\n",
            "dtypes: float64(1), int64(3), object(3)\n",
            "memory usage: 571.4+ KB\n",
            "None\n"
          ]
        }
      ],
      "source": [
        "print(df.info())\n",
        "df.drop(columns=['Year', 'Month', 'Day'], inplace=True)"
      ]
    },
    {
      "cell_type": "code",
      "execution_count": 11,
      "metadata": {
        "id": "8l4ofSa0hqu9"
      },
      "outputs": [],
      "source": [
        "# Remove rows where AvgTemperature is -99, as it likely represents missing data\n",
        "df = df[df['AvgTemperature'] > -50]"
      ]
    },
    {
      "cell_type": "code",
      "execution_count": 12,
      "metadata": {
        "colab": {
          "base_uri": "https://localhost:8080/",
          "height": 472
        },
        "id": "5w8VmDKZhrRn",
        "outputId": "9e1dde1c-58c6-4ccb-994a-0de5389e1a4e"
      },
      "outputs": [
        {
          "output_type": "display_data",
          "data": {
            "text/plain": [
              "<Figure size 640x480 with 1 Axes>"
            ],
            "image/png": "[encoded data removed]"
          },
          "metadata": {}
        }
      ],
      "source": [
        "import matplotlib.pyplot as plt\n",
        "df['AvgTemperature'].hist(bins=50)\n",
        "plt.xlabel('Average Temperature')\n",
        "plt.ylabel('Frequency')\n",
        "plt.title('Temperature Distribution')\n",
        "plt.show()"
      ]
    },
    {
      "cell_type": "code",
      "execution_count": 13,
      "metadata": {
        "colab": {
          "base_uri": "https://localhost:8080/",
          "height": 526
        },
        "id": "CrWySfs9hs86",
        "outputId": "204cee11-ec7a-4555-a603-4e7f865f7dc9"
      },
      "outputs": [
        {
          "output_type": "display_data",
          "data": {
            "text/plain": [
              "<Figure size 1200x600 with 1 Axes>"
            ],
            "image/png": "[encoded data removed]"
          },
          "metadata": {}
        }
      ],
      "source": [
        "df['AvgTemperature'].plot(figsize=(12, 6))\n",
        "plt.title('Daily Average Temperature Over Time')\n",
        "plt.ylabel('AvgTemperature')\n",
        "plt.show()"
      ]
    },
    {
      "cell_type": "code",
      "execution_count": 14,
      "metadata": {
        "colab": {
          "base_uri": "https://localhost:8080/",
          "height": 957
        },
        "id": "RQNkHiaUhu6i",
        "outputId": "fcd7ade6-36e1-400a-f000-20475ee8e4be"
      },
      "outputs": [
        {
          "output_type": "execute_result",
          "data": {
            "text/plain": [
              "<Figure size 640x480 with 4 Axes>"
            ],
            "image/png": "[encoded data removed]"
          },
          "metadata": {},
          "execution_count": 14
        },
        {
          "output_type": "display_data",
          "data": {
            "text/plain": [
              "<Figure size 640x480 with 4 Axes>"
            ],
            "image/png": "[encoded data removed]"
          },
          "metadata": {}
        }
      ],
      "source": [
        "from statsmodels.tsa.seasonal import seasonal_decompose\n",
        "result = seasonal_decompose(df['AvgTemperature'], model='additive', period=365)\n",
        "result.plot()"
      ]
    },
    {
      "cell_type": "code",
      "execution_count": 15,
      "metadata": {
        "id": "VsflZaPyhxVY"
      },
      "outputs": [],
      "source": [
        "df['DayOfWeek'] = df.index.dayofweek\n",
        "df['Month'] = df.index.month"
      ]
    },
    {
      "cell_type": "code",
      "execution_count": 16,
      "metadata": {
        "id": "v2sfKIyth0an"
      },
      "outputs": [],
      "source": [
        "df['RollingMean'] = df['AvgTemperature'].rolling(window=7).mean()"
      ]
    },
    {
      "cell_type": "code",
      "execution_count": 1,
      "metadata": {
        "colab": {
          "base_uri": "https://localhost:8080/"
        },
        "id": "T_6P4TIjh4cU",
        "outputId": "1bffd941-1ae7-4179-930e-6aa0d5402797"
      },
      "outputs": [
        {
          "output_type": "stream",
          "name": "stdout",
          "text": [
            "Requirement already satisfied: autoviml in /usr/local/lib/python3.10/dist-packages (0.1.800)\n",
            "Requirement already satisfied: numpy>=1.24 in /usr/local/lib/python3.10/dist-packages (from autoviml) (1.26.4)\n",
            "Requirement already satisfied: pandas<2.0,>=1.1.3 in /usr/local/lib/python3.10/dist-packages (from autoviml) (1.5.3)\n",
            "Requirement already satisfied: xlrd in /usr/local/lib/python3.10/dist-packages (from autoviml) (2.0.1)\n",
            "Requirement already satisfied: matplotlib>3.7.4 in /usr/local/lib/python3.10/dist-packages (from autoviml) (3.8.0)\n",
            "Requirement already satisfied: beautifulsoup4 in /usr/local/lib/python3.10/dist-packages (from autoviml) (4.12.3)\n",
            "Requirement already satisfied: emoji in /usr/local/lib/python3.10/dist-packages (from autoviml) (2.14.0)\n",
            "Requirement already satisfied: ipython in /usr/local/lib/python3.10/dist-packages (from autoviml) (7.34.0)\n",
            "Requirement already satisfied: jupyter in /usr/local/lib/python3.10/dist-packages (from autoviml) (1.1.1)\n",
            "Requirement already satisfied: seaborn in /usr/local/lib/python3.10/dist-packages (from autoviml) (0.13.2)\n",
            "Requirement already satisfied: catboost in /usr/local/lib/python3.10/dist-packages (from autoviml) (1.2.7)\n",
            "Requirement already satisfied: textblob in /usr/local/lib/python3.10/dist-packages (from autoviml) (0.17.1)\n",
            "Requirement already satisfied: nltk in /usr/local/lib/python3.10/dist-packages (from autoviml) (3.8.1)\n",
            "Requirement already satisfied: regex in /usr/local/lib/python3.10/dist-packages (from autoviml) (2024.9.11)\n",
            "Requirement already satisfied: xgboost<1.7,>=0.82 in /usr/local/lib/python3.10/dist-packages (from autoviml) (1.6.2)\n",
            "Requirement already satisfied: vaderSentiment in /usr/local/lib/python3.10/dist-packages (from autoviml) (3.3.2)\n",
            "Requirement already satisfied: imbalanced-learn>=0.10.1 in /usr/local/lib/python3.10/dist-packages (from autoviml) (0.12.4)\n",
            "Requirement already satisfied: shap>=0.36.0 in /usr/local/lib/python3.10/dist-packages (from autoviml) (0.46.0)\n",
            "Requirement already satisfied: imbalanced-ensemble>=0.2.0 in /usr/local/lib/python3.10/dist-packages (from autoviml) (0.2.0)\n",
            "Requirement already satisfied: scikit-learn<=1.2.2,>=0.24 in /usr/local/lib/python3.10/dist-packages (from autoviml) (1.2.2)\n",
            "Requirement already satisfied: lightgbm>=3.0.0 in /usr/local/lib/python3.10/dist-packages (from autoviml) (4.5.0)\n",
            "Requirement already satisfied: scipy>=1.9.1 in /usr/local/lib/python3.10/dist-packages (from imbalanced-ensemble>=0.2.0->autoviml) (1.13.1)\n",
            "Requirement already satisfied: joblib>=0.11 in /usr/local/lib/python3.10/dist-packages (from imbalanced-ensemble>=0.2.0->autoviml) (1.4.2)\n",
            "Requirement already satisfied: tqdm>=4.50.2 in /usr/local/lib/python3.10/dist-packages (from imbalanced-ensemble>=0.2.0->autoviml) (4.66.6)\n",
            "Requirement already satisfied: threadpoolctl>=2.0.0 in /usr/local/lib/python3.10/dist-packages (from imbalanced-learn>=0.10.1->autoviml) (3.5.0)\n",
            "Requirement already satisfied: contourpy>=1.0.1 in /usr/local/lib/python3.10/dist-packages (from matplotlib>3.7.4->autoviml) (1.3.0)\n",
            "Requirement already satisfied: cycler>=0.10 in /usr/local/lib/python3.10/dist-packages (from matplotlib>3.7.4->autoviml) (0.12.1)\n",
            "Requirement already satisfied: fonttools>=4.22.0 in /usr/local/lib/python3.10/dist-packages (from matplotlib>3.7.4->autoviml) (4.54.1)\n",
            "Requirement already satisfied: kiwisolver>=1.0.1 in /usr/local/lib/python3.10/dist-packages (from matplotlib>3.7.4->autoviml) (1.4.7)\n",
            "Requirement already satisfied: packaging>=20.0 in /usr/local/lib/python3.10/dist-packages (from matplotlib>3.7.4->autoviml) (24.1)\n",
            "Requirement already satisfied: pillow>=6.2.0 in /usr/local/lib/python3.10/dist-packages (from matplotlib>3.7.4->autoviml) (10.4.0)\n",
            "Requirement already satisfied: pyparsing>=2.3.1 in /usr/local/lib/python3.10/dist-packages (from matplotlib>3.7.4->autoviml) (3.2.0)\n",
            "Requirement already satisfied: python-dateutil>=2.7 in /usr/local/lib/python3.10/dist-packages (from matplotlib>3.7.4->autoviml) (2.8.2)\n",
            "Requirement already satisfied: pytz>=2020.1 in /usr/local/lib/python3.10/dist-packages (from pandas<2.0,>=1.1.3->autoviml) (2024.2)\n",
            "Requirement already satisfied: slicer==0.0.8 in /usr/local/lib/python3.10/dist-packages (from shap>=0.36.0->autoviml) (0.0.8)\n",
            "Requirement already satisfied: numba in /usr/local/lib/python3.10/dist-packages (from shap>=0.36.0->autoviml) (0.60.0)\n",
            "Requirement already satisfied: cloudpickle in /usr/local/lib/python3.10/dist-packages (from shap>=0.36.0->autoviml) (3.1.0)\n",
            "Requirement already satisfied: soupsieve>1.2 in /usr/local/lib/python3.10/dist-packages (from beautifulsoup4->autoviml) (2.6)\n",
            "Requirement already satisfied: graphviz in /usr/local/lib/python3.10/dist-packages (from catboost->autoviml) (0.20.3)\n",
            "Requirement already satisfied: plotly in /usr/local/lib/python3.10/dist-packages (from catboost->autoviml) (5.24.1)\n",
            "Requirement already satisfied: six in /usr/local/lib/python3.10/dist-packages (from catboost->autoviml) (1.16.0)\n",
            "Requirement already satisfied: setuptools>=18.5 in /usr/local/lib/python3.10/dist-packages (from ipython->autoviml) (75.1.0)\n",
            "Requirement already satisfied: jedi>=0.16 in /usr/local/lib/python3.10/dist-packages (from ipython->autoviml) (0.19.2)\n",
            "Requirement already satisfied: decorator in /usr/local/lib/python3.10/dist-packages (from ipython->autoviml) (4.4.2)\n",
            "Requirement already satisfied: pickleshare in /usr/local/lib/python3.10/dist-packages (from ipython->autoviml) (0.7.5)\n",
            "Requirement already satisfied: traitlets>=4.2 in /usr/local/lib/python3.10/dist-packages (from ipython->autoviml) (5.7.1)\n",
            "Requirement already satisfied: prompt-toolkit!=3.0.0,!=3.0.1,<3.1.0,>=2.0.0 in /usr/local/lib/python3.10/dist-packages (from ipython->autoviml) (3.0.48)\n",
            "Requirement already satisfied: pygments in /usr/local/lib/python3.10/dist-packages (from ipython->autoviml) (2.18.0)\n",
            "Requirement already satisfied: backcall in /usr/local/lib/python3.10/dist-packages (from ipython->autoviml) (0.2.0)\n",
            "Requirement already satisfied: matplotlib-inline in /usr/local/lib/python3.10/dist-packages (from ipython->autoviml) (0.1.7)\n",
            "Requirement already satisfied: pexpect>4.3 in /usr/local/lib/python3.10/dist-packages (from ipython->autoviml) (4.9.0)\n",
            "Requirement already satisfied: notebook in /usr/local/lib/python3.10/dist-packages (from jupyter->autoviml) (6.5.5)\n",
            "Requirement already satisfied: jupyter-console in /usr/local/lib/python3.10/dist-packages (from jupyter->autoviml) (6.1.0)\n",
            "Requirement already satisfied: nbconvert in /usr/local/lib/python3.10/dist-packages (from jupyter->autoviml) (7.16.4)\n",
            "Requirement already satisfied: ipykernel in /usr/local/lib/python3.10/dist-packages (from jupyter->autoviml) (6.29.5)\n",
            "Requirement already satisfied: ipywidgets in /usr/local/lib/python3.10/dist-packages (from jupyter->autoviml) (7.7.1)\n",
            "Requirement already satisfied: jupyterlab in /usr/local/lib/python3.10/dist-packages (from jupyter->autoviml) (4.3.0)\n",
            "Requirement already satisfied: click in /usr/local/lib/python3.10/dist-packages (from nltk->autoviml) (8.1.7)\n",
            "Requirement already satisfied: requests in /usr/local/lib/python3.10/dist-packages (from vaderSentiment->autoviml) (2.32.3)\n",
            "Requirement already satisfied: parso<0.9.0,>=0.8.4 in /usr/local/lib/python3.10/dist-packages (from jedi>=0.16->ipython->autoviml) (0.8.4)\n",
            "Requirement already satisfied: ptyprocess>=0.5 in /usr/local/lib/python3.10/dist-packages (from pexpect>4.3->ipython->autoviml) (0.7.0)\n",
            "Requirement already satisfied: wcwidth in /usr/local/lib/python3.10/dist-packages (from prompt-toolkit!=3.0.0,!=3.0.1,<3.1.0,>=2.0.0->ipython->autoviml) (0.2.13)\n",
            "Requirement already satisfied: comm>=0.1.1 in /usr/local/lib/python3.10/dist-packages (from ipykernel->jupyter->autoviml) (0.2.2)\n",
            "Requirement already satisfied: debugpy>=1.6.5 in /usr/local/lib/python3.10/dist-packages (from ipykernel->jupyter->autoviml) (1.8.0)\n",
            "Requirement already satisfied: jupyter-client>=6.1.12 in /usr/local/lib/python3.10/dist-packages (from ipykernel->jupyter->autoviml) (7.4.9)\n",
            "Requirement already satisfied: jupyter-core!=5.0.*,>=4.12 in /usr/local/lib/python3.10/dist-packages (from ipykernel->jupyter->autoviml) (5.7.2)\n",
            "Requirement already satisfied: nest-asyncio in /usr/local/lib/python3.10/dist-packages (from ipykernel->jupyter->autoviml) (1.6.0)\n",
            "Requirement already satisfied: psutil in /usr/local/lib/python3.10/dist-packages (from ipykernel->jupyter->autoviml) (5.9.5)\n",
            "Requirement already satisfied: pyzmq>=24 in /usr/local/lib/python3.10/dist-packages (from ipykernel->jupyter->autoviml) (24.0.1)\n",
            "Requirement already satisfied: tornado>=6.1 in /usr/local/lib/python3.10/dist-packages (from ipykernel->jupyter->autoviml) (6.3.3)\n",
            "Requirement already satisfied: ipython-genutils~=0.2.0 in /usr/local/lib/python3.10/dist-packages (from ipywidgets->jupyter->autoviml) (0.2.0)\n",
            "Requirement already satisfied: widgetsnbextension~=3.6.0 in /usr/local/lib/python3.10/dist-packages (from ipywidgets->jupyter->autoviml) (3.6.10)\n",
            "Requirement already satisfied: jupyterlab-widgets>=1.0.0 in /usr/local/lib/python3.10/dist-packages (from ipywidgets->jupyter->autoviml) (3.0.13)\n",
            "Requirement already satisfied: async-lru>=1.0.0 in /usr/local/lib/python3.10/dist-packages (from jupyterlab->jupyter->autoviml) (2.0.4)\n",
            "Requirement already satisfied: httpx>=0.25.0 in /usr/local/lib/python3.10/dist-packages (from jupyterlab->jupyter->autoviml) (0.27.2)\n",
            "Requirement already satisfied: jinja2>=3.0.3 in /usr/local/lib/python3.10/dist-packages (from jupyterlab->jupyter->autoviml) (3.1.4)\n",
            "Requirement already satisfied: jupyter-lsp>=2.0.0 in /usr/local/lib/python3.10/dist-packages (from jupyterlab->jupyter->autoviml) (2.2.5)\n",
            "Requirement already satisfied: jupyter-server<3,>=2.4.0 in /usr/local/lib/python3.10/dist-packages (from jupyterlab->jupyter->autoviml) (2.14.2)\n",
            "Requirement already satisfied: jupyterlab-server<3,>=2.27.1 in /usr/local/lib/python3.10/dist-packages (from jupyterlab->jupyter->autoviml) (2.27.3)\n",
            "Requirement already satisfied: notebook-shim>=0.2 in /usr/local/lib/python3.10/dist-packages (from jupyterlab->jupyter->autoviml) (0.2.4)\n",
            "Requirement already satisfied: tomli>=1.2.2 in /usr/local/lib/python3.10/dist-packages (from jupyterlab->jupyter->autoviml) (2.0.2)\n",
            "Requirement already satisfied: bleach!=5.0.0 in /usr/local/lib/python3.10/dist-packages (from nbconvert->jupyter->autoviml) (6.2.0)\n",
            "Requirement already satisfied: defusedxml in /usr/local/lib/python3.10/dist-packages (from nbconvert->jupyter->autoviml) (0.7.1)\n",
            "Requirement already satisfied: jupyterlab-pygments in /usr/local/lib/python3.10/dist-packages (from nbconvert->jupyter->autoviml) (0.3.0)\n",
            "Requirement already satisfied: markupsafe>=2.0 in /usr/local/lib/python3.10/dist-packages (from nbconvert->jupyter->autoviml) (3.0.2)\n",
            "Requirement already satisfied: mistune<4,>=2.0.3 in /usr/local/lib/python3.10/dist-packages (from nbconvert->jupyter->autoviml) (3.0.2)\n",
            "Requirement already satisfied: nbclient>=0.5.0 in /usr/local/lib/python3.10/dist-packages (from nbconvert->jupyter->autoviml) (0.10.0)\n",
            "Requirement already satisfied: nbformat>=5.7 in /usr/local/lib/python3.10/dist-packages (from nbconvert->jupyter->autoviml) (5.10.4)\n",
            "Requirement already satisfied: pandocfilters>=1.4.1 in /usr/local/lib/python3.10/dist-packages (from nbconvert->jupyter->autoviml) (1.5.1)\n",
            "Requirement already satisfied: tinycss2 in /usr/local/lib/python3.10/dist-packages (from nbconvert->jupyter->autoviml) (1.4.0)\n",
            "Requirement already satisfied: argon2-cffi in /usr/local/lib/python3.10/dist-packages (from notebook->jupyter->autoviml) (23.1.0)\n",
            "Requirement already satisfied: Send2Trash>=1.8.0 in /usr/local/lib/python3.10/dist-packages (from notebook->jupyter->autoviml) (1.8.3)\n",
            "Requirement already satisfied: terminado>=0.8.3 in /usr/local/lib/python3.10/dist-packages (from notebook->jupyter->autoviml) (0.18.1)\n",
            "Requirement already satisfied: prometheus-client in /usr/local/lib/python3.10/dist-packages (from notebook->jupyter->autoviml) (0.21.0)\n",
            "Requirement already satisfied: nbclassic>=0.4.7 in /usr/local/lib/python3.10/dist-packages (from notebook->jupyter->autoviml) (1.1.0)\n",
            "Requirement already satisfied: llvmlite<0.44,>=0.43.0dev0 in /usr/local/lib/python3.10/dist-packages (from numba->shap>=0.36.0->autoviml) (0.43.0)\n",
            "Requirement already satisfied: tenacity>=6.2.0 in /usr/local/lib/python3.10/dist-packages (from plotly->catboost->autoviml) (9.0.0)\n",
            "Requirement already satisfied: charset-normalizer<4,>=2 in /usr/local/lib/python3.10/dist-packages (from requests->vaderSentiment->autoviml) (3.4.0)\n",
            "Requirement already satisfied: idna<4,>=2.5 in /usr/local/lib/python3.10/dist-packages (from requests->vaderSentiment->autoviml) (3.10)\n",
            "Requirement already satisfied: urllib3<3,>=1.21.1 in /usr/local/lib/python3.10/dist-packages (from requests->vaderSentiment->autoviml) (2.2.3)\n",
            "Requirement already satisfied: certifi>=2017.4.17 in /usr/local/lib/python3.10/dist-packages (from requests->vaderSentiment->autoviml) (2024.8.30)\n",
            "Requirement already satisfied: typing-extensions>=4.0.0 in /usr/local/lib/python3.10/dist-packages (from async-lru>=1.0.0->jupyterlab->jupyter->autoviml) (4.12.2)\n",
            "Requirement already satisfied: webencodings in /usr/local/lib/python3.10/dist-packages (from bleach!=5.0.0->nbconvert->jupyter->autoviml) (0.5.1)\n",
            "Requirement already satisfied: anyio in /usr/local/lib/python3.10/dist-packages (from httpx>=0.25.0->jupyterlab->jupyter->autoviml) (3.7.1)\n",
            "Requirement already satisfied: httpcore==1.* in /usr/local/lib/python3.10/dist-packages (from httpx>=0.25.0->jupyterlab->jupyter->autoviml) (1.0.6)\n",
            "Requirement already satisfied: sniffio in /usr/local/lib/python3.10/dist-packages (from httpx>=0.25.0->jupyterlab->jupyter->autoviml) (1.3.1)\n",
            "Requirement already satisfied: h11<0.15,>=0.13 in /usr/local/lib/python3.10/dist-packages (from httpcore==1.*->httpx>=0.25.0->jupyterlab->jupyter->autoviml) (0.14.0)\n",
            "Requirement already satisfied: entrypoints in /usr/local/lib/python3.10/dist-packages (from jupyter-client>=6.1.12->ipykernel->jupyter->autoviml) (0.4)\n",
            "Requirement already satisfied: platformdirs>=2.5 in /usr/local/lib/python3.10/dist-packages (from jupyter-core!=5.0.*,>=4.12->ipykernel->jupyter->autoviml) (4.3.6)\n",
            "Requirement already satisfied: jupyter-events>=0.9.0 in /usr/local/lib/python3.10/dist-packages (from jupyter-server<3,>=2.4.0->jupyterlab->jupyter->autoviml) (0.10.0)\n",
            "Requirement already satisfied: jupyter-server-terminals>=0.4.4 in /usr/local/lib/python3.10/dist-packages (from jupyter-server<3,>=2.4.0->jupyterlab->jupyter->autoviml) (0.5.3)\n",
            "Requirement already satisfied: overrides>=5.0 in /usr/local/lib/python3.10/dist-packages (from jupyter-server<3,>=2.4.0->jupyterlab->jupyter->autoviml) (7.7.0)\n",
            "Requirement already satisfied: websocket-client>=1.7 in /usr/local/lib/python3.10/dist-packages (from jupyter-server<3,>=2.4.0->jupyterlab->jupyter->autoviml) (1.8.0)\n",
            "Requirement already satisfied: argon2-cffi-bindings in /usr/local/lib/python3.10/dist-packages (from argon2-cffi->notebook->jupyter->autoviml) (21.2.0)\n",
            "Requirement already satisfied: babel>=2.10 in /usr/local/lib/python3.10/dist-packages (from jupyterlab-server<3,>=2.27.1->jupyterlab->jupyter->autoviml) (2.16.0)\n",
            "Requirement already satisfied: json5>=0.9.0 in /usr/local/lib/python3.10/dist-packages (from jupyterlab-server<3,>=2.27.1->jupyterlab->jupyter->autoviml) (0.9.28)\n",
            "Requirement already satisfied: jsonschema>=4.18.0 in /usr/local/lib/python3.10/dist-packages (from jupyterlab-server<3,>=2.27.1->jupyterlab->jupyter->autoviml) (4.23.0)\n",
            "Requirement already satisfied: fastjsonschema>=2.15 in /usr/local/lib/python3.10/dist-packages (from nbformat>=5.7->nbconvert->jupyter->autoviml) (2.20.0)\n",
            "Requirement already satisfied: exceptiongroup in /usr/local/lib/python3.10/dist-packages (from anyio->httpx>=0.25.0->jupyterlab->jupyter->autoviml) (1.2.2)\n",
            "Requirement already satisfied: attrs>=22.2.0 in /usr/local/lib/python3.10/dist-packages (from jsonschema>=4.18.0->jupyterlab-server<3,>=2.27.1->jupyterlab->jupyter->autoviml) (24.2.0)\n",
            "Requirement already satisfied: jsonschema-specifications>=2023.03.6 in /usr/local/lib/python3.10/dist-packages (from jsonschema>=4.18.0->jupyterlab-server<3,>=2.27.1->jupyterlab->jupyter->autoviml) (2024.10.1)\n",
            "Requirement already satisfied: referencing>=0.28.4 in /usr/local/lib/python3.10/dist-packages (from jsonschema>=4.18.0->jupyterlab-server<3,>=2.27.1->jupyterlab->jupyter->autoviml) (0.35.1)\n",
            "Requirement already satisfied: rpds-py>=0.7.1 in /usr/local/lib/python3.10/dist-packages (from jsonschema>=4.18.0->jupyterlab-server<3,>=2.27.1->jupyterlab->jupyter->autoviml) (0.20.1)\n",
            "Requirement already satisfied: python-json-logger>=2.0.4 in /usr/local/lib/python3.10/dist-packages (from jupyter-events>=0.9.0->jupyter-server<3,>=2.4.0->jupyterlab->jupyter->autoviml) (2.0.7)\n",
            "Requirement already satisfied: pyyaml>=5.3 in /usr/local/lib/python3.10/dist-packages (from jupyter-events>=0.9.0->jupyter-server<3,>=2.4.0->jupyterlab->jupyter->autoviml) (6.0.2)\n",
            "Requirement already satisfied: rfc3339-validator in /usr/local/lib/python3.10/dist-packages (from jupyter-events>=0.9.0->jupyter-server<3,>=2.4.0->jupyterlab->jupyter->autoviml) (0.1.4)\n",
            "Requirement already satisfied: rfc3986-validator>=0.1.1 in /usr/local/lib/python3.10/dist-packages (from jupyter-events>=0.9.0->jupyter-server<3,>=2.4.0->jupyterlab->jupyter->autoviml) (0.1.1)\n",
            "Requirement already satisfied: cffi>=1.0.1 in /usr/local/lib/python3.10/dist-packages (from argon2-cffi-bindings->argon2-cffi->notebook->jupyter->autoviml) (1.17.1)\n",
            "Requirement already satisfied: pycparser in /usr/local/lib/python3.10/dist-packages (from cffi>=1.0.1->argon2-cffi-bindings->argon2-cffi->notebook->jupyter->autoviml) (2.22)\n",
            "Requirement already satisfied: fqdn in /usr/local/lib/python3.10/dist-packages (from jsonschema[format-nongpl]>=4.18.0->jupyter-events>=0.9.0->jupyter-server<3,>=2.4.0->jupyterlab->jupyter->autoviml) (1.5.1)\n",
            "Requirement already satisfied: isoduration in /usr/local/lib/python3.10/dist-packages (from jsonschema[format-nongpl]>=4.18.0->jupyter-events>=0.9.0->jupyter-server<3,>=2.4.0->jupyterlab->jupyter->autoviml) (20.11.0)\n",
            "Requirement already satisfied: jsonpointer>1.13 in /usr/local/lib/python3.10/dist-packages (from jsonschema[format-nongpl]>=4.18.0->jupyter-events>=0.9.0->jupyter-server<3,>=2.4.0->jupyterlab->jupyter->autoviml) (3.0.0)\n",
            "Requirement already satisfied: uri-template in /usr/local/lib/python3.10/dist-packages (from jsonschema[format-nongpl]>=4.18.0->jupyter-events>=0.9.0->jupyter-server<3,>=2.4.0->jupyterlab->jupyter->autoviml) (1.3.0)\n",
            "Requirement already satisfied: webcolors>=24.6.0 in /usr/local/lib/python3.10/dist-packages (from jsonschema[format-nongpl]>=4.18.0->jupyter-events>=0.9.0->jupyter-server<3,>=2.4.0->jupyterlab->jupyter->autoviml) (24.8.0)\n",
            "Requirement already satisfied: arrow>=0.15.0 in /usr/local/lib/python3.10/dist-packages (from isoduration->jsonschema[format-nongpl]>=4.18.0->jupyter-events>=0.9.0->jupyter-server<3,>=2.4.0->jupyterlab->jupyter->autoviml) (1.3.0)\n",
            "Requirement already satisfied: types-python-dateutil>=2.8.10 in /usr/local/lib/python3.10/dist-packages (from arrow>=0.15.0->isoduration->jsonschema[format-nongpl]>=4.18.0->jupyter-events>=0.9.0->jupyter-server<3,>=2.4.0->jupyterlab->jupyter->autoviml) (2.9.0.20241003)\n"
          ]
        }
      ],
      "source": [
        "!pip install autoviml"
      ]
    },
    {
      "cell_type": "code",
      "execution_count": 1,
      "metadata": {
        "colab": {
          "base_uri": "https://localhost:8080/"
        },
        "id": "8ffUnY8gh9TW",
        "outputId": "a1c889ff-a689-4953-d8e2-e64919545602"
      },
      "outputs": [
        {
          "output_type": "stream",
          "name": "stdout",
          "text": [
            "Requirement already satisfied: scipy==1.7.3 in /usr/local/lib/python3.10/dist-packages (1.7.3)\n",
            "Requirement already satisfied: numpy<1.23.0,>=1.16.5 in /usr/local/lib/python3.10/dist-packages (from scipy==1.7.3) (1.22.4)\n"
          ]
        }
      ],
      "source": [
        "!pip install scipy==1.7.3"
      ]
    },
    {
      "cell_type": "code",
      "source": [
        "!pip uninstall numpy -y\n"
      ],
      "metadata": {
        "colab": {
          "base_uri": "https://localhost:8080/"
        },
        "id": "nxugqkIUQDG_",
        "outputId": "7f572b4a-6734-4d58-c926-d7239fa1cf91"
      },
      "execution_count": 2,
      "outputs": [
        {
          "output_type": "stream",
          "name": "stdout",
          "text": [
            "Found existing installation: numpy 1.22.4\n",
            "Uninstalling numpy-1.22.4:\n",
            "  Successfully uninstalled numpy-1.22.4\n"
          ]
        }
      ]
    },
    {
      "cell_type": "code",
      "source": [
        "!pip install numpy==1.21.0\n"
      ],
      "metadata": {
        "colab": {
          "base_uri": "https://localhost:8080/"
        },
        "id": "pxygNyH6QGed",
        "outputId": "f92253c3-cf9d-49f9-87e2-647226553a72"
      },
      "execution_count": 1,
      "outputs": [
        {
          "output_type": "stream",
          "name": "stdout",
          "text": [
            "Requirement already satisfied: numpy==1.21.0 in /usr/local/lib/python3.10/dist-packages (1.21.0)\n"
          ]
        }
      ]
    },
    {
      "cell_type": "code",
      "execution_count": 1,
      "metadata": {
        "colab": {
          "base_uri": "https://localhost:8080/"
        },
        "id": "tvSyUWq3iYJr",
        "outputId": "46b0fbb1-ae45-4e44-f597-d9f9c19f36aa"
      },
      "outputs": [
        {
          "output_type": "stream",
          "name": "stdout",
          "text": [
            "Requirement already satisfied: pycaret in /usr/local/lib/python3.10/dist-packages (3.3.2)\n",
            "Requirement already satisfied: ipython>=5.5.0 in /usr/local/lib/python3.10/dist-packages (from pycaret) (7.34.0)\n",
            "Requirement already satisfied: ipywidgets>=7.6.5 in /usr/local/lib/python3.10/dist-packages (from pycaret) (7.7.1)\n",
            "Requirement already satisfied: tqdm>=4.62.0 in /usr/local/lib/python3.10/dist-packages (from pycaret) (4.66.6)\n",
            "Requirement already satisfied: numpy<1.27,>=1.21 in /usr/local/lib/python3.10/dist-packages (from pycaret) (1.26.4)\n",
            "Requirement already satisfied: pandas<2.2.0 in /usr/local/lib/python3.10/dist-packages (from pycaret) (1.5.3)\n",
            "Requirement already satisfied: jinja2>=3 in /usr/local/lib/python3.10/dist-packages (from pycaret) (3.1.4)\n",
            "Requirement already satisfied: scipy<=1.11.4,>=1.6.1 in /usr/local/lib/python3.10/dist-packages (from pycaret) (1.11.4)\n",
            "Requirement already satisfied: joblib<1.4,>=1.2.0 in /usr/local/lib/python3.10/dist-packages (from pycaret) (1.3.2)\n",
            "Requirement already satisfied: scikit-learn>1.4.0 in /usr/local/lib/python3.10/dist-packages (from pycaret) (1.4.2)\n",
            "Requirement already satisfied: pyod>=1.1.3 in /usr/local/lib/python3.10/dist-packages (from pycaret) (2.0.2)\n",
            "Requirement already satisfied: imbalanced-learn>=0.12.0 in /usr/local/lib/python3.10/dist-packages (from pycaret) (0.12.4)\n",
            "Requirement already satisfied: category-encoders>=2.4.0 in /usr/local/lib/python3.10/dist-packages (from pycaret) (2.6.4)\n",
            "Requirement already satisfied: lightgbm>=3.0.0 in /usr/local/lib/python3.10/dist-packages (from pycaret) (4.5.0)\n",
            "Requirement already satisfied: numba>=0.55.0 in /usr/local/lib/python3.10/dist-packages (from pycaret) (0.60.0)\n",
            "Requirement already satisfied: requests>=2.27.1 in /usr/local/lib/python3.10/dist-packages (from pycaret) (2.32.3)\n",
            "Requirement already satisfied: psutil>=5.9.0 in /usr/local/lib/python3.10/dist-packages (from pycaret) (5.9.5)\n",
            "Requirement already satisfied: markupsafe>=2.0.1 in /usr/local/lib/python3.10/dist-packages (from pycaret) (3.0.2)\n",
            "Requirement already satisfied: importlib-metadata>=4.12.0 in /usr/local/lib/python3.10/dist-packages (from pycaret) (8.5.0)\n",
            "Requirement already satisfied: nbformat>=4.2.0 in /usr/local/lib/python3.10/dist-packages (from pycaret) (5.10.4)\n",
            "Requirement already satisfied: cloudpickle in /usr/local/lib/python3.10/dist-packages (from pycaret) (3.1.0)\n",
            "Requirement already satisfied: deprecation>=2.1.0 in /usr/local/lib/python3.10/dist-packages (from pycaret) (2.1.0)\n",
            "Requirement already satisfied: xxhash in /usr/local/lib/python3.10/dist-packages (from pycaret) (3.5.0)\n",
            "Requirement already satisfied: matplotlib<3.8.0 in /usr/local/lib/python3.10/dist-packages (from pycaret) (3.7.5)\n",
            "Requirement already satisfied: scikit-plot>=0.3.7 in /usr/local/lib/python3.10/dist-packages (from pycaret) (0.3.7)\n",
            "Requirement already satisfied: yellowbrick>=1.4 in /usr/local/lib/python3.10/dist-packages (from pycaret) (1.5)\n",
            "Requirement already satisfied: plotly>=5.14.0 in /usr/local/lib/python3.10/dist-packages (from pycaret) (5.24.1)\n",
            "Requirement already satisfied: kaleido>=0.2.1 in /usr/local/lib/python3.10/dist-packages (from pycaret) (0.2.1)\n",
            "Requirement already satisfied: schemdraw==0.15 in /usr/local/lib/python3.10/dist-packages (from pycaret) (0.15)\n",
            "Requirement already satisfied: plotly-resampler>=0.8.3.1 in /usr/local/lib/python3.10/dist-packages (from pycaret) (0.10.0)\n",
            "Requirement already satisfied: statsmodels>=0.12.1 in /usr/local/lib/python3.10/dist-packages (from pycaret) (0.14.4)\n",
            "Requirement already satisfied: sktime==0.26.0 in /usr/local/lib/python3.10/dist-packages (from pycaret) (0.26.0)\n",
            "Requirement already satisfied: tbats>=1.1.3 in /usr/local/lib/python3.10/dist-packages (from pycaret) (1.1.3)\n",
            "Requirement already satisfied: pmdarima>=2.0.4 in /usr/local/lib/python3.10/dist-packages (from pycaret) (2.0.4)\n",
            "Requirement already satisfied: wurlitzer in /usr/local/lib/python3.10/dist-packages (from pycaret) (3.1.1)\n",
            "Requirement already satisfied: packaging in /usr/local/lib/python3.10/dist-packages (from sktime==0.26.0->pycaret) (24.1)\n",
            "Requirement already satisfied: scikit-base<0.8.0 in /usr/local/lib/python3.10/dist-packages (from sktime==0.26.0->pycaret) (0.7.8)\n",
            "Requirement already satisfied: patsy>=0.5.1 in /usr/local/lib/python3.10/dist-packages (from category-encoders>=2.4.0->pycaret) (0.5.6)\n",
            "Requirement already satisfied: threadpoolctl>=2.0.0 in /usr/local/lib/python3.10/dist-packages (from imbalanced-learn>=0.12.0->pycaret) (3.5.0)\n",
            "Requirement already satisfied: zipp>=3.20 in /usr/local/lib/python3.10/dist-packages (from importlib-metadata>=4.12.0->pycaret) (3.20.2)\n",
            "Requirement already satisfied: setuptools>=18.5 in /usr/local/lib/python3.10/dist-packages (from ipython>=5.5.0->pycaret) (75.1.0)\n",
            "Requirement already satisfied: jedi>=0.16 in /usr/local/lib/python3.10/dist-packages (from ipython>=5.5.0->pycaret) (0.19.2)\n",
            "Requirement already satisfied: decorator in /usr/local/lib/python3.10/dist-packages (from ipython>=5.5.0->pycaret) (4.4.2)\n",
            "Requirement already satisfied: pickleshare in /usr/local/lib/python3.10/dist-packages (from ipython>=5.5.0->pycaret) (0.7.5)\n",
            "Requirement already satisfied: traitlets>=4.2 in /usr/local/lib/python3.10/dist-packages (from ipython>=5.5.0->pycaret) (5.7.1)\n",
            "Requirement already satisfied: prompt-toolkit!=3.0.0,!=3.0.1,<3.1.0,>=2.0.0 in /usr/local/lib/python3.10/dist-packages (from ipython>=5.5.0->pycaret) (3.0.48)\n",
            "Requirement already satisfied: pygments in /usr/local/lib/python3.10/dist-packages (from ipython>=5.5.0->pycaret) (2.18.0)\n",
            "Requirement already satisfied: backcall in /usr/local/lib/python3.10/dist-packages (from ipython>=5.5.0->pycaret) (0.2.0)\n",
            "Requirement already satisfied: matplotlib-inline in /usr/local/lib/python3.10/dist-packages (from ipython>=5.5.0->pycaret) (0.1.7)\n",
            "Requirement already satisfied: pexpect>4.3 in /usr/local/lib/python3.10/dist-packages (from ipython>=5.5.0->pycaret) (4.9.0)\n",
            "Requirement already satisfied: ipykernel>=4.5.1 in /usr/local/lib/python3.10/dist-packages (from ipywidgets>=7.6.5->pycaret) (6.29.5)\n",
            "Requirement already satisfied: ipython-genutils~=0.2.0 in /usr/local/lib/python3.10/dist-packages (from ipywidgets>=7.6.5->pycaret) (0.2.0)\n",
            "Requirement already satisfied: widgetsnbextension~=3.6.0 in /usr/local/lib/python3.10/dist-packages (from ipywidgets>=7.6.5->pycaret) (3.6.10)\n",
            "Requirement already satisfied: jupyterlab-widgets>=1.0.0 in /usr/local/lib/python3.10/dist-packages (from ipywidgets>=7.6.5->pycaret) (3.0.13)\n",
            "Requirement already satisfied: contourpy>=1.0.1 in /usr/local/lib/python3.10/dist-packages (from matplotlib<3.8.0->pycaret) (1.3.0)\n",
            "Requirement already satisfied: cycler>=0.10 in /usr/local/lib/python3.10/dist-packages (from matplotlib<3.8.0->pycaret) (0.12.1)\n",
            "Requirement already satisfied: fonttools>=4.22.0 in /usr/local/lib/python3.10/dist-packages (from matplotlib<3.8.0->pycaret) (4.54.1)\n",
            "Requirement already satisfied: kiwisolver>=1.0.1 in /usr/local/lib/python3.10/dist-packages (from matplotlib<3.8.0->pycaret) (1.4.7)\n",
            "Requirement already satisfied: pillow>=6.2.0 in /usr/local/lib/python3.10/dist-packages (from matplotlib<3.8.0->pycaret) (10.4.0)\n",
            "Requirement already satisfied: pyparsing>=2.3.1 in /usr/local/lib/python3.10/dist-packages (from matplotlib<3.8.0->pycaret) (3.2.0)\n",
            "Requirement already satisfied: python-dateutil>=2.7 in /usr/local/lib/python3.10/dist-packages (from matplotlib<3.8.0->pycaret) (2.8.2)\n",
            "Requirement already satisfied: fastjsonschema>=2.15 in /usr/local/lib/python3.10/dist-packages (from nbformat>=4.2.0->pycaret) (2.20.0)\n",
            "Requirement already satisfied: jsonschema>=2.6 in /usr/local/lib/python3.10/dist-packages (from nbformat>=4.2.0->pycaret) (4.23.0)\n",
            "Requirement already satisfied: jupyter-core!=5.0.*,>=4.12 in /usr/local/lib/python3.10/dist-packages (from nbformat>=4.2.0->pycaret) (5.7.2)\n",
            "Requirement already satisfied: llvmlite<0.44,>=0.43.0dev0 in /usr/local/lib/python3.10/dist-packages (from numba>=0.55.0->pycaret) (0.43.0)\n",
            "Requirement already satisfied: pytz>=2020.1 in /usr/local/lib/python3.10/dist-packages (from pandas<2.2.0->pycaret) (2024.2)\n",
            "Requirement already satisfied: tenacity>=6.2.0 in /usr/local/lib/python3.10/dist-packages (from plotly>=5.14.0->pycaret) (9.0.0)\n",
            "Requirement already satisfied: dash>=2.9.0 in /usr/local/lib/python3.10/dist-packages (from plotly-resampler>=0.8.3.1->pycaret) (2.18.2)\n",
            "Requirement already satisfied: orjson<4.0.0,>=3.8.0 in /usr/local/lib/python3.10/dist-packages (from plotly-resampler>=0.8.3.1->pycaret) (3.10.11)\n",
            "Requirement already satisfied: tsdownsample>=0.1.3 in /usr/local/lib/python3.10/dist-packages (from plotly-resampler>=0.8.3.1->pycaret) (0.1.3)\n",
            "Requirement already satisfied: Cython!=0.29.18,!=0.29.31,>=0.29 in /usr/local/lib/python3.10/dist-packages (from pmdarima>=2.0.4->pycaret) (3.0.11)\n",
            "Requirement already satisfied: urllib3 in /usr/local/lib/python3.10/dist-packages (from pmdarima>=2.0.4->pycaret) (2.2.3)\n",
            "Requirement already satisfied: charset-normalizer<4,>=2 in /usr/local/lib/python3.10/dist-packages (from requests>=2.27.1->pycaret) (3.4.0)\n",
            "Requirement already satisfied: idna<4,>=2.5 in /usr/local/lib/python3.10/dist-packages (from requests>=2.27.1->pycaret) (3.10)\n",
            "Requirement already satisfied: certifi>=2017.4.17 in /usr/local/lib/python3.10/dist-packages (from requests>=2.27.1->pycaret) (2024.8.30)\n",
            "Requirement already satisfied: Flask<3.1,>=1.0.4 in /usr/local/lib/python3.10/dist-packages (from dash>=2.9.0->plotly-resampler>=0.8.3.1->pycaret) (2.2.5)\n",
            "Requirement already satisfied: Werkzeug<3.1 in /usr/local/lib/python3.10/dist-packages (from dash>=2.9.0->plotly-resampler>=0.8.3.1->pycaret) (3.0.6)\n",
            "Requirement already satisfied: dash-html-components==2.0.0 in /usr/local/lib/python3.10/dist-packages (from dash>=2.9.0->plotly-resampler>=0.8.3.1->pycaret) (2.0.0)\n",
            "Requirement already satisfied: dash-core-components==2.0.0 in /usr/local/lib/python3.10/dist-packages (from dash>=2.9.0->plotly-resampler>=0.8.3.1->pycaret) (2.0.0)\n",
            "Requirement already satisfied: dash-table==5.0.0 in /usr/local/lib/python3.10/dist-packages (from dash>=2.9.0->plotly-resampler>=0.8.3.1->pycaret) (5.0.0)\n",
            "Requirement already satisfied: typing-extensions>=4.1.1 in /usr/local/lib/python3.10/dist-packages (from dash>=2.9.0->plotly-resampler>=0.8.3.1->pycaret) (4.12.2)\n",
            "Requirement already satisfied: retrying in /usr/local/lib/python3.10/dist-packages (from dash>=2.9.0->plotly-resampler>=0.8.3.1->pycaret) (1.3.4)\n",
            "Requirement already satisfied: nest-asyncio in /usr/local/lib/python3.10/dist-packages (from dash>=2.9.0->plotly-resampler>=0.8.3.1->pycaret) (1.6.0)\n",
            "Requirement already satisfied: comm>=0.1.1 in /usr/local/lib/python3.10/dist-packages (from ipykernel>=4.5.1->ipywidgets>=7.6.5->pycaret) (0.2.2)\n",
            "Requirement already satisfied: debugpy>=1.6.5 in /usr/local/lib/python3.10/dist-packages (from ipykernel>=4.5.1->ipywidgets>=7.6.5->pycaret) (1.8.0)\n",
            "Requirement already satisfied: jupyter-client>=6.1.12 in /usr/local/lib/python3.10/dist-packages (from ipykernel>=4.5.1->ipywidgets>=7.6.5->pycaret) (7.4.9)\n",
            "Requirement already satisfied: pyzmq>=24 in /usr/local/lib/python3.10/dist-packages (from ipykernel>=4.5.1->ipywidgets>=7.6.5->pycaret) (24.0.1)\n",
            "Requirement already satisfied: tornado>=6.1 in /usr/local/lib/python3.10/dist-packages (from ipykernel>=4.5.1->ipywidgets>=7.6.5->pycaret) (6.3.3)\n",
            "Requirement already satisfied: parso<0.9.0,>=0.8.4 in /usr/local/lib/python3.10/dist-packages (from jedi>=0.16->ipython>=5.5.0->pycaret) (0.8.4)\n",
            "Requirement already satisfied: attrs>=22.2.0 in /usr/local/lib/python3.10/dist-packages (from jsonschema>=2.6->nbformat>=4.2.0->pycaret) (24.2.0)\n",
            "Requirement already satisfied: jsonschema-specifications>=2023.03.6 in /usr/local/lib/python3.10/dist-packages (from jsonschema>=2.6->nbformat>=4.2.0->pycaret) (2024.10.1)\n",
            "Requirement already satisfied: referencing>=0.28.4 in /usr/local/lib/python3.10/dist-packages (from jsonschema>=2.6->nbformat>=4.2.0->pycaret) (0.35.1)\n",
            "Requirement already satisfied: rpds-py>=0.7.1 in /usr/local/lib/python3.10/dist-packages (from jsonschema>=2.6->nbformat>=4.2.0->pycaret) (0.20.1)\n",
            "Requirement already satisfied: platformdirs>=2.5 in /usr/local/lib/python3.10/dist-packages (from jupyter-core!=5.0.*,>=4.12->nbformat>=4.2.0->pycaret) (4.3.6)\n",
            "Requirement already satisfied: six in /usr/local/lib/python3.10/dist-packages (from patsy>=0.5.1->category-encoders>=2.4.0->pycaret) (1.16.0)\n",
            "Requirement already satisfied: ptyprocess>=0.5 in /usr/local/lib/python3.10/dist-packages (from pexpect>4.3->ipython>=5.5.0->pycaret) (0.7.0)\n",
            "Requirement already satisfied: wcwidth in /usr/local/lib/python3.10/dist-packages (from prompt-toolkit!=3.0.0,!=3.0.1,<3.1.0,>=2.0.0->ipython>=5.5.0->pycaret) (0.2.13)\n",
            "Requirement already satisfied: notebook>=4.4.1 in /usr/local/lib/python3.10/dist-packages (from widgetsnbextension~=3.6.0->ipywidgets>=7.6.5->pycaret) (6.5.5)\n",
            "Requirement already satisfied: itsdangerous>=2.0 in /usr/local/lib/python3.10/dist-packages (from Flask<3.1,>=1.0.4->dash>=2.9.0->plotly-resampler>=0.8.3.1->pycaret) (2.2.0)\n",
            "Requirement already satisfied: click>=8.0 in /usr/local/lib/python3.10/dist-packages (from Flask<3.1,>=1.0.4->dash>=2.9.0->plotly-resampler>=0.8.3.1->pycaret) (8.1.7)\n",
            "Requirement already satisfied: entrypoints in /usr/local/lib/python3.10/dist-packages (from jupyter-client>=6.1.12->ipykernel>=4.5.1->ipywidgets>=7.6.5->pycaret) (0.4)\n",
            "Requirement already satisfied: argon2-cffi in /usr/local/lib/python3.10/dist-packages (from notebook>=4.4.1->widgetsnbextension~=3.6.0->ipywidgets>=7.6.5->pycaret) (23.1.0)\n",
            "Requirement already satisfied: nbconvert>=5 in /usr/local/lib/python3.10/dist-packages (from notebook>=4.4.1->widgetsnbextension~=3.6.0->ipywidgets>=7.6.5->pycaret) (7.16.4)\n",
            "Requirement already satisfied: Send2Trash>=1.8.0 in /usr/local/lib/python3.10/dist-packages (from notebook>=4.4.1->widgetsnbextension~=3.6.0->ipywidgets>=7.6.5->pycaret) (1.8.3)\n",
            "Requirement already satisfied: terminado>=0.8.3 in /usr/local/lib/python3.10/dist-packages (from notebook>=4.4.1->widgetsnbextension~=3.6.0->ipywidgets>=7.6.5->pycaret) (0.18.1)\n",
            "Requirement already satisfied: prometheus-client in /usr/local/lib/python3.10/dist-packages (from notebook>=4.4.1->widgetsnbextension~=3.6.0->ipywidgets>=7.6.5->pycaret) (0.21.0)\n",
            "Requirement already satisfied: nbclassic>=0.4.7 in /usr/local/lib/python3.10/dist-packages (from notebook>=4.4.1->widgetsnbextension~=3.6.0->ipywidgets>=7.6.5->pycaret) (1.1.0)\n",
            "Requirement already satisfied: notebook-shim>=0.2.3 in /usr/local/lib/python3.10/dist-packages (from nbclassic>=0.4.7->notebook>=4.4.1->widgetsnbextension~=3.6.0->ipywidgets>=7.6.5->pycaret) (0.2.4)\n",
            "Requirement already satisfied: beautifulsoup4 in /usr/local/lib/python3.10/dist-packages (from nbconvert>=5->notebook>=4.4.1->widgetsnbextension~=3.6.0->ipywidgets>=7.6.5->pycaret) (4.12.3)\n",
            "Requirement already satisfied: bleach!=5.0.0 in /usr/local/lib/python3.10/dist-packages (from nbconvert>=5->notebook>=4.4.1->widgetsnbextension~=3.6.0->ipywidgets>=7.6.5->pycaret) (6.2.0)\n",
            "Requirement already satisfied: defusedxml in /usr/local/lib/python3.10/dist-packages (from nbconvert>=5->notebook>=4.4.1->widgetsnbextension~=3.6.0->ipywidgets>=7.6.5->pycaret) (0.7.1)\n",
            "Requirement already satisfied: jupyterlab-pygments in /usr/local/lib/python3.10/dist-packages (from nbconvert>=5->notebook>=4.4.1->widgetsnbextension~=3.6.0->ipywidgets>=7.6.5->pycaret) (0.3.0)\n",
            "Requirement already satisfied: mistune<4,>=2.0.3 in /usr/local/lib/python3.10/dist-packages (from nbconvert>=5->notebook>=4.4.1->widgetsnbextension~=3.6.0->ipywidgets>=7.6.5->pycaret) (3.0.2)\n",
            "Requirement already satisfied: nbclient>=0.5.0 in /usr/local/lib/python3.10/dist-packages (from nbconvert>=5->notebook>=4.4.1->widgetsnbextension~=3.6.0->ipywidgets>=7.6.5->pycaret) (0.10.0)\n",
            "Requirement already satisfied: pandocfilters>=1.4.1 in /usr/local/lib/python3.10/dist-packages (from nbconvert>=5->notebook>=4.4.1->widgetsnbextension~=3.6.0->ipywidgets>=7.6.5->pycaret) (1.5.1)\n",
            "Requirement already satisfied: tinycss2 in /usr/local/lib/python3.10/dist-packages (from nbconvert>=5->notebook>=4.4.1->widgetsnbextension~=3.6.0->ipywidgets>=7.6.5->pycaret) (1.4.0)\n",
            "Requirement already satisfied: argon2-cffi-bindings in /usr/local/lib/python3.10/dist-packages (from argon2-cffi->notebook>=4.4.1->widgetsnbextension~=3.6.0->ipywidgets>=7.6.5->pycaret) (21.2.0)\n",
            "Requirement already satisfied: webencodings in /usr/local/lib/python3.10/dist-packages (from bleach!=5.0.0->nbconvert>=5->notebook>=4.4.1->widgetsnbextension~=3.6.0->ipywidgets>=7.6.5->pycaret) (0.5.1)\n",
            "Requirement already satisfied: jupyter-server<3,>=1.8 in /usr/local/lib/python3.10/dist-packages (from notebook-shim>=0.2.3->nbclassic>=0.4.7->notebook>=4.4.1->widgetsnbextension~=3.6.0->ipywidgets>=7.6.5->pycaret) (2.14.2)\n",
            "Requirement already satisfied: cffi>=1.0.1 in /usr/local/lib/python3.10/dist-packages (from argon2-cffi-bindings->argon2-cffi->notebook>=4.4.1->widgetsnbextension~=3.6.0->ipywidgets>=7.6.5->pycaret) (1.17.1)\n",
            "Requirement already satisfied: soupsieve>1.2 in /usr/local/lib/python3.10/dist-packages (from beautifulsoup4->nbconvert>=5->notebook>=4.4.1->widgetsnbextension~=3.6.0->ipywidgets>=7.6.5->pycaret) (2.6)\n",
            "Requirement already satisfied: pycparser in /usr/local/lib/python3.10/dist-packages (from cffi>=1.0.1->argon2-cffi-bindings->argon2-cffi->notebook>=4.4.1->widgetsnbextension~=3.6.0->ipywidgets>=7.6.5->pycaret) (2.22)\n",
            "Requirement already satisfied: anyio>=3.1.0 in /usr/local/lib/python3.10/dist-packages (from jupyter-server<3,>=1.8->notebook-shim>=0.2.3->nbclassic>=0.4.7->notebook>=4.4.1->widgetsnbextension~=3.6.0->ipywidgets>=7.6.5->pycaret) (3.7.1)\n",
            "Requirement already satisfied: jupyter-events>=0.9.0 in /usr/local/lib/python3.10/dist-packages (from jupyter-server<3,>=1.8->notebook-shim>=0.2.3->nbclassic>=0.4.7->notebook>=4.4.1->widgetsnbextension~=3.6.0->ipywidgets>=7.6.5->pycaret) (0.10.0)\n",
            "Requirement already satisfied: jupyter-server-terminals>=0.4.4 in /usr/local/lib/python3.10/dist-packages (from jupyter-server<3,>=1.8->notebook-shim>=0.2.3->nbclassic>=0.4.7->notebook>=4.4.1->widgetsnbextension~=3.6.0->ipywidgets>=7.6.5->pycaret) (0.5.3)\n",
            "Requirement already satisfied: overrides>=5.0 in /usr/local/lib/python3.10/dist-packages (from jupyter-server<3,>=1.8->notebook-shim>=0.2.3->nbclassic>=0.4.7->notebook>=4.4.1->widgetsnbextension~=3.6.0->ipywidgets>=7.6.5->pycaret) (7.7.0)\n",
            "Requirement already satisfied: websocket-client>=1.7 in /usr/local/lib/python3.10/dist-packages (from jupyter-server<3,>=1.8->notebook-shim>=0.2.3->nbclassic>=0.4.7->notebook>=4.4.1->widgetsnbextension~=3.6.0->ipywidgets>=7.6.5->pycaret) (1.8.0)\n",
            "Requirement already satisfied: sniffio>=1.1 in /usr/local/lib/python3.10/dist-packages (from anyio>=3.1.0->jupyter-server<3,>=1.8->notebook-shim>=0.2.3->nbclassic>=0.4.7->notebook>=4.4.1->widgetsnbextension~=3.6.0->ipywidgets>=7.6.5->pycaret) (1.3.1)\n",
            "Requirement already satisfied: exceptiongroup in /usr/local/lib/python3.10/dist-packages (from anyio>=3.1.0->jupyter-server<3,>=1.8->notebook-shim>=0.2.3->nbclassic>=0.4.7->notebook>=4.4.1->widgetsnbextension~=3.6.0->ipywidgets>=7.6.5->pycaret) (1.2.2)\n",
            "Requirement already satisfied: python-json-logger>=2.0.4 in /usr/local/lib/python3.10/dist-packages (from jupyter-events>=0.9.0->jupyter-server<3,>=1.8->notebook-shim>=0.2.3->nbclassic>=0.4.7->notebook>=4.4.1->widgetsnbextension~=3.6.0->ipywidgets>=7.6.5->pycaret) (2.0.7)\n",
            "Requirement already satisfied: pyyaml>=5.3 in /usr/local/lib/python3.10/dist-packages (from jupyter-events>=0.9.0->jupyter-server<3,>=1.8->notebook-shim>=0.2.3->nbclassic>=0.4.7->notebook>=4.4.1->widgetsnbextension~=3.6.0->ipywidgets>=7.6.5->pycaret) (6.0.2)\n",
            "Requirement already satisfied: rfc3339-validator in /usr/local/lib/python3.10/dist-packages (from jupyter-events>=0.9.0->jupyter-server<3,>=1.8->notebook-shim>=0.2.3->nbclassic>=0.4.7->notebook>=4.4.1->widgetsnbextension~=3.6.0->ipywidgets>=7.6.5->pycaret) (0.1.4)\n",
            "Requirement already satisfied: rfc3986-validator>=0.1.1 in /usr/local/lib/python3.10/dist-packages (from jupyter-events>=0.9.0->jupyter-server<3,>=1.8->notebook-shim>=0.2.3->nbclassic>=0.4.7->notebook>=4.4.1->widgetsnbextension~=3.6.0->ipywidgets>=7.6.5->pycaret) (0.1.1)\n",
            "Requirement already satisfied: fqdn in /usr/local/lib/python3.10/dist-packages (from jsonschema[format-nongpl]>=4.18.0->jupyter-events>=0.9.0->jupyter-server<3,>=1.8->notebook-shim>=0.2.3->nbclassic>=0.4.7->notebook>=4.4.1->widgetsnbextension~=3.6.0->ipywidgets>=7.6.5->pycaret) (1.5.1)\n",
            "Requirement already satisfied: isoduration in /usr/local/lib/python3.10/dist-packages (from jsonschema[format-nongpl]>=4.18.0->jupyter-events>=0.9.0->jupyter-server<3,>=1.8->notebook-shim>=0.2.3->nbclassic>=0.4.7->notebook>=4.4.1->widgetsnbextension~=3.6.0->ipywidgets>=7.6.5->pycaret) (20.11.0)\n",
            "Requirement already satisfied: jsonpointer>1.13 in /usr/local/lib/python3.10/dist-packages (from jsonschema[format-nongpl]>=4.18.0->jupyter-events>=0.9.0->jupyter-server<3,>=1.8->notebook-shim>=0.2.3->nbclassic>=0.4.7->notebook>=4.4.1->widgetsnbextension~=3.6.0->ipywidgets>=7.6.5->pycaret) (3.0.0)\n",
            "Requirement already satisfied: uri-template in /usr/local/lib/python3.10/dist-packages (from jsonschema[format-nongpl]>=4.18.0->jupyter-events>=0.9.0->jupyter-server<3,>=1.8->notebook-shim>=0.2.3->nbclassic>=0.4.7->notebook>=4.4.1->widgetsnbextension~=3.6.0->ipywidgets>=7.6.5->pycaret) (1.3.0)\n",
            "Requirement already satisfied: webcolors>=24.6.0 in /usr/local/lib/python3.10/dist-packages (from jsonschema[format-nongpl]>=4.18.0->jupyter-events>=0.9.0->jupyter-server<3,>=1.8->notebook-shim>=0.2.3->nbclassic>=0.4.7->notebook>=4.4.1->widgetsnbextension~=3.6.0->ipywidgets>=7.6.5->pycaret) (24.8.0)\n",
            "Requirement already satisfied: arrow>=0.15.0 in /usr/local/lib/python3.10/dist-packages (from isoduration->jsonschema[format-nongpl]>=4.18.0->jupyter-events>=0.9.0->jupyter-server<3,>=1.8->notebook-shim>=0.2.3->nbclassic>=0.4.7->notebook>=4.4.1->widgetsnbextension~=3.6.0->ipywidgets>=7.6.5->pycaret) (1.3.0)\n",
            "Requirement already satisfied: types-python-dateutil>=2.8.10 in /usr/local/lib/python3.10/dist-packages (from arrow>=0.15.0->isoduration->jsonschema[format-nongpl]>=4.18.0->jupyter-events>=0.9.0->jupyter-server<3,>=1.8->notebook-shim>=0.2.3->nbclassic>=0.4.7->notebook>=4.4.1->widgetsnbextension~=3.6.0->ipywidgets>=7.6.5->pycaret) (2.9.0.20241003)\n"
          ]
        }
      ],
      "source": [
        "!pip install pycaret"
      ]
    },
    {
      "cell_type": "code",
      "execution_count": 2,
      "metadata": {
        "colab": {
          "base_uri": "https://localhost:8080/",
          "height": 1000,
          "referenced_widgets": [
            "2417082aa0a74e81ab0d6182e45d8985",
            "cf3cc16177164efe90914fc85635f18e",
            "8e0ee30b547343419a36fbbe56ddfdbf",
            "552c84bdcd8c433280232b2054b9be92",
            "c3d9b7d3682d4a82beac05128f384c5a",
            "f2c64ee6901c4540bcc84546cf934eb5",
            "9689ee806dc14defa80891f039d2353c",
            "91aaac785b80428eb5f8ba03707e150d",
            "80a55cfcf9764c3e9ad27346023d759c",
            "708059c4dbb647cba5aed2b55e8058ad",
            "a2e2532d1a4443638b31433a76f91145"
          ]
        },
        "id": "Q2JHlweXivRT",
        "outputId": "8b9f2e33-b4e6-4f00-d8e6-8395a571a2ea"
      },
      "outputs": [
        {
          "output_type": "display_data",
          "data": {
            "text/plain": [
              "<pandas.io.formats.style.Styler at 0x7c07eac4e5f0>"
            ],
            "text/html": [
              "<style type=\"text/css\">\n",
              "#T_ce624_row10_col1 {\n",
              "  background-color: lightgreen;\n",
              "}\n",
              "</style>\n",
              "<table id=\"T_ce624\" class=\"dataframe\">\n",
              "  <thead>\n",
              "    <tr>\n",
              "      <th class=\"blank level0\" >&nbsp;</th>\n",
              "      <th id=\"T_ce624_level0_col0\" class=\"col_heading level0 col0\" >Description</th>\n",
              "      <th id=\"T_ce624_level0_col1\" class=\"col_heading level0 col1\" >Value</th>\n",
              "    </tr>\n",
              "  </thead>\n",
              "  <tbody>\n",
              "    <tr>\n",
              "      <th id=\"T_ce624_level0_row0\" class=\"row_heading level0 row0\" >0</th>\n",
              "      <td id=\"T_ce624_row0_col0\" class=\"data row0 col0\" >Session id</td>\n",
              "      <td id=\"T_ce624_row0_col1\" class=\"data row0 col1\" >123</td>\n",
              "    </tr>\n",
              "    <tr>\n",
              "      <th id=\"T_ce624_level0_row1\" class=\"row_heading level0 row1\" >1</th>\n",
              "      <td id=\"T_ce624_row1_col0\" class=\"data row1 col0\" >Target</td>\n",
              "      <td id=\"T_ce624_row1_col1\" class=\"data row1 col1\" >AvgTemperature</td>\n",
              "    </tr>\n",
              "    <tr>\n",
              "      <th id=\"T_ce624_level0_row2\" class=\"row_heading level0 row2\" >2</th>\n",
              "      <td id=\"T_ce624_row2_col0\" class=\"data row2 col0\" >Target type</td>\n",
              "      <td id=\"T_ce624_row2_col1\" class=\"data row2 col1\" >Regression</td>\n",
              "    </tr>\n",
              "    <tr>\n",
              "      <th id=\"T_ce624_level0_row3\" class=\"row_heading level0 row3\" >3</th>\n",
              "      <td id=\"T_ce624_row3_col0\" class=\"data row3 col0\" >Original data shape</td>\n",
              "      <td id=\"T_ce624_row3_col1\" class=\"data row3 col1\" >(9143, 8)</td>\n",
              "    </tr>\n",
              "    <tr>\n",
              "      <th id=\"T_ce624_level0_row4\" class=\"row_heading level0 row4\" >4</th>\n",
              "      <td id=\"T_ce624_row4_col0\" class=\"data row4 col0\" >Transformed data shape</td>\n",
              "      <td id=\"T_ce624_row4_col1\" class=\"data row4 col1\" >(9143, 7)</td>\n",
              "    </tr>\n",
              "    <tr>\n",
              "      <th id=\"T_ce624_level0_row5\" class=\"row_heading level0 row5\" >5</th>\n",
              "      <td id=\"T_ce624_row5_col0\" class=\"data row5 col0\" >Transformed train set shape</td>\n",
              "      <td id=\"T_ce624_row5_col1\" class=\"data row5 col1\" >(6400, 7)</td>\n",
              "    </tr>\n",
              "    <tr>\n",
              "      <th id=\"T_ce624_level0_row6\" class=\"row_heading level0 row6\" >6</th>\n",
              "      <td id=\"T_ce624_row6_col0\" class=\"data row6 col0\" >Transformed test set shape</td>\n",
              "      <td id=\"T_ce624_row6_col1\" class=\"data row6 col1\" >(2743, 7)</td>\n",
              "    </tr>\n",
              "    <tr>\n",
              "      <th id=\"T_ce624_level0_row7\" class=\"row_heading level0 row7\" >7</th>\n",
              "      <td id=\"T_ce624_row7_col0\" class=\"data row7 col0\" >Numeric features</td>\n",
              "      <td id=\"T_ce624_row7_col1\" class=\"data row7 col1\" >4</td>\n",
              "    </tr>\n",
              "    <tr>\n",
              "      <th id=\"T_ce624_level0_row8\" class=\"row_heading level0 row8\" >8</th>\n",
              "      <td id=\"T_ce624_row8_col0\" class=\"data row8 col0\" >Categorical features</td>\n",
              "      <td id=\"T_ce624_row8_col1\" class=\"data row8 col1\" >3</td>\n",
              "    </tr>\n",
              "    <tr>\n",
              "      <th id=\"T_ce624_level0_row9\" class=\"row_heading level0 row9\" >9</th>\n",
              "      <td id=\"T_ce624_row9_col0\" class=\"data row9 col0\" >Rows with missing values</td>\n",
              "      <td id=\"T_ce624_row9_col1\" class=\"data row9 col1\" >100.0%</td>\n",
              "    </tr>\n",
              "    <tr>\n",
              "      <th id=\"T_ce624_level0_row10\" class=\"row_heading level0 row10\" >10</th>\n",
              "      <td id=\"T_ce624_row10_col0\" class=\"data row10 col0\" >Preprocess</td>\n",
              "      <td id=\"T_ce624_row10_col1\" class=\"data row10 col1\" >True</td>\n",
              "    </tr>\n",
              "    <tr>\n",
              "      <th id=\"T_ce624_level0_row11\" class=\"row_heading level0 row11\" >11</th>\n",
              "      <td id=\"T_ce624_row11_col0\" class=\"data row11 col0\" >Imputation type</td>\n",
              "      <td id=\"T_ce624_row11_col1\" class=\"data row11 col1\" >simple</td>\n",
              "    </tr>\n",
              "    <tr>\n",
              "      <th id=\"T_ce624_level0_row12\" class=\"row_heading level0 row12\" >12</th>\n",
              "      <td id=\"T_ce624_row12_col0\" class=\"data row12 col0\" >Numeric imputation</td>\n",
              "      <td id=\"T_ce624_row12_col1\" class=\"data row12 col1\" >mean</td>\n",
              "    </tr>\n",
              "    <tr>\n",
              "      <th id=\"T_ce624_level0_row13\" class=\"row_heading level0 row13\" >13</th>\n",
              "      <td id=\"T_ce624_row13_col0\" class=\"data row13 col0\" >Categorical imputation</td>\n",
              "      <td id=\"T_ce624_row13_col1\" class=\"data row13 col1\" >mode</td>\n",
              "    </tr>\n",
              "    <tr>\n",
              "      <th id=\"T_ce624_level0_row14\" class=\"row_heading level0 row14\" >14</th>\n",
              "      <td id=\"T_ce624_row14_col0\" class=\"data row14 col0\" >Maximum one-hot encoding</td>\n",
              "      <td id=\"T_ce624_row14_col1\" class=\"data row14 col1\" >25</td>\n",
              "    </tr>\n",
              "    <tr>\n",
              "      <th id=\"T_ce624_level0_row15\" class=\"row_heading level0 row15\" >15</th>\n",
              "      <td id=\"T_ce624_row15_col0\" class=\"data row15 col0\" >Encoding method</td>\n",
              "      <td id=\"T_ce624_row15_col1\" class=\"data row15 col1\" >None</td>\n",
              "    </tr>\n",
              "    <tr>\n",
              "      <th id=\"T_ce624_level0_row16\" class=\"row_heading level0 row16\" >16</th>\n",
              "      <td id=\"T_ce624_row16_col0\" class=\"data row16 col0\" >Fold Generator</td>\n",
              "      <td id=\"T_ce624_row16_col1\" class=\"data row16 col1\" >KFold</td>\n",
              "    </tr>\n",
              "    <tr>\n",
              "      <th id=\"T_ce624_level0_row17\" class=\"row_heading level0 row17\" >17</th>\n",
              "      <td id=\"T_ce624_row17_col0\" class=\"data row17 col0\" >Fold Number</td>\n",
              "      <td id=\"T_ce624_row17_col1\" class=\"data row17 col1\" >10</td>\n",
              "    </tr>\n",
              "    <tr>\n",
              "      <th id=\"T_ce624_level0_row18\" class=\"row_heading level0 row18\" >18</th>\n",
              "      <td id=\"T_ce624_row18_col0\" class=\"data row18 col0\" >CPU Jobs</td>\n",
              "      <td id=\"T_ce624_row18_col1\" class=\"data row18 col1\" >-1</td>\n",
              "    </tr>\n",
              "    <tr>\n",
              "      <th id=\"T_ce624_level0_row19\" class=\"row_heading level0 row19\" >19</th>\n",
              "      <td id=\"T_ce624_row19_col0\" class=\"data row19 col0\" >Use GPU</td>\n",
              "      <td id=\"T_ce624_row19_col1\" class=\"data row19 col1\" >False</td>\n",
              "    </tr>\n",
              "    <tr>\n",
              "      <th id=\"T_ce624_level0_row20\" class=\"row_heading level0 row20\" >20</th>\n",
              "      <td id=\"T_ce624_row20_col0\" class=\"data row20 col0\" >Log Experiment</td>\n",
              "      <td id=\"T_ce624_row20_col1\" class=\"data row20 col1\" >False</td>\n",
              "    </tr>\n",
              "    <tr>\n",
              "      <th id=\"T_ce624_level0_row21\" class=\"row_heading level0 row21\" >21</th>\n",
              "      <td id=\"T_ce624_row21_col0\" class=\"data row21 col0\" >Experiment Name</td>\n",
              "      <td id=\"T_ce624_row21_col1\" class=\"data row21 col1\" >reg-default-name</td>\n",
              "    </tr>\n",
              "    <tr>\n",
              "      <th id=\"T_ce624_level0_row22\" class=\"row_heading level0 row22\" >22</th>\n",
              "      <td id=\"T_ce624_row22_col0\" class=\"data row22 col0\" >USI</td>\n",
              "      <td id=\"T_ce624_row22_col1\" class=\"data row22 col1\" >ec28</td>\n",
              "    </tr>\n",
              "  </tbody>\n",
              "</table>\n"
            ]
          },
          "metadata": {}
        },
        {
          "output_type": "display_data",
          "data": {
            "text/plain": [
              "<IPython.core.display.HTML object>"
            ],
            "text/html": []
          },
          "metadata": {}
        },
        {
          "output_type": "display_data",
          "data": {
            "text/plain": [
              "<pandas.io.formats.style.Styler at 0x7c07ea95ca00>"
            ],
            "text/html": [
              "<style type=\"text/css\">\n",
              "#T_78206 th {\n",
              "  text-align: left;\n",
              "}\n",
              "#T_78206_row0_col0, #T_78206_row0_col1, #T_78206_row0_col5, #T_78206_row0_col6, #T_78206_row1_col0, #T_78206_row1_col1, #T_78206_row1_col2, #T_78206_row1_col3, #T_78206_row1_col4, #T_78206_row1_col5, #T_78206_row1_col6, #T_78206_row2_col0, #T_78206_row2_col2, #T_78206_row2_col3, #T_78206_row2_col4, #T_78206_row2_col5, #T_78206_row3_col0, #T_78206_row3_col1, #T_78206_row3_col2, #T_78206_row3_col3, #T_78206_row3_col4, #T_78206_row3_col5, #T_78206_row3_col6, #T_78206_row4_col0, #T_78206_row4_col1, #T_78206_row4_col2, #T_78206_row4_col3, #T_78206_row4_col4, #T_78206_row4_col5, #T_78206_row5_col0, #T_78206_row5_col1, #T_78206_row5_col2, #T_78206_row5_col3, #T_78206_row5_col4, #T_78206_row5_col5, #T_78206_row5_col6, #T_78206_row6_col0, #T_78206_row6_col1, #T_78206_row6_col2, #T_78206_row6_col3, #T_78206_row6_col4, #T_78206_row6_col5, #T_78206_row6_col6, #T_78206_row7_col0, #T_78206_row7_col1, #T_78206_row7_col2, #T_78206_row7_col3, #T_78206_row7_col4, #T_78206_row7_col5, #T_78206_row7_col6, #T_78206_row8_col0, #T_78206_row8_col1, #T_78206_row8_col2, #T_78206_row8_col3, #T_78206_row8_col4, #T_78206_row8_col6, #T_78206_row9_col0, #T_78206_row9_col1, #T_78206_row9_col2, #T_78206_row9_col3, #T_78206_row9_col4, #T_78206_row9_col5, #T_78206_row9_col6, #T_78206_row10_col0, #T_78206_row10_col1, #T_78206_row10_col2, #T_78206_row10_col3, #T_78206_row10_col4, #T_78206_row10_col5, #T_78206_row10_col6, #T_78206_row11_col0, #T_78206_row11_col1, #T_78206_row11_col2, #T_78206_row11_col3, #T_78206_row11_col4, #T_78206_row11_col5, #T_78206_row11_col6, #T_78206_row12_col0, #T_78206_row12_col1, #T_78206_row12_col2, #T_78206_row12_col3, #T_78206_row12_col4, #T_78206_row12_col5, #T_78206_row12_col6, #T_78206_row13_col0, #T_78206_row13_col1, #T_78206_row13_col2, #T_78206_row13_col3, #T_78206_row13_col4, #T_78206_row13_col5, #T_78206_row13_col6, #T_78206_row14_col0, #T_78206_row14_col1, #T_78206_row14_col2, #T_78206_row14_col3, #T_78206_row14_col4, #T_78206_row14_col5, #T_78206_row14_col6, #T_78206_row15_col0, #T_78206_row15_col1, #T_78206_row15_col2, #T_78206_row15_col3, #T_78206_row15_col4, #T_78206_row15_col5, #T_78206_row15_col6, #T_78206_row16_col0, #T_78206_row16_col1, #T_78206_row16_col2, #T_78206_row16_col3, #T_78206_row16_col4, #T_78206_row16_col5, #T_78206_row16_col6, #T_78206_row17_col0, #T_78206_row17_col1, #T_78206_row17_col2, #T_78206_row17_col3, #T_78206_row17_col4, #T_78206_row17_col5, #T_78206_row17_col6, #T_78206_row18_col0, #T_78206_row18_col1, #T_78206_row18_col2, #T_78206_row18_col3, #T_78206_row18_col4, #T_78206_row18_col5, #T_78206_row18_col6, #T_78206_row19_col0, #T_78206_row19_col1, #T_78206_row19_col2, #T_78206_row19_col3, #T_78206_row19_col4, #T_78206_row19_col5, #T_78206_row19_col6 {\n",
              "  text-align: left;\n",
              "}\n",
              "#T_78206_row0_col2, #T_78206_row0_col3, #T_78206_row0_col4, #T_78206_row2_col1, #T_78206_row2_col6, #T_78206_row4_col6, #T_78206_row8_col5 {\n",
              "  text-align: left;\n",
              "  background-color: yellow;\n",
              "}\n",
              "#T_78206_row0_col7, #T_78206_row1_col7, #T_78206_row2_col7, #T_78206_row3_col7, #T_78206_row4_col7, #T_78206_row5_col7, #T_78206_row6_col7, #T_78206_row7_col7, #T_78206_row8_col7, #T_78206_row9_col7, #T_78206_row10_col7, #T_78206_row11_col7, #T_78206_row13_col7, #T_78206_row14_col7, #T_78206_row16_col7, #T_78206_row17_col7, #T_78206_row18_col7, #T_78206_row19_col7 {\n",
              "  text-align: left;\n",
              "  background-color: lightgrey;\n",
              "}\n",
              "#T_78206_row12_col7, #T_78206_row15_col7 {\n",
              "  text-align: left;\n",
              "  background-color: yellow;\n",
              "  background-color: lightgrey;\n",
              "}\n",
              "</style>\n",
              "<table id=\"T_78206\" class=\"dataframe\">\n",
              "  <thead>\n",
              "    <tr>\n",
              "      <th class=\"blank level0\" >&nbsp;</th>\n",
              "      <th id=\"T_78206_level0_col0\" class=\"col_heading level0 col0\" >Model</th>\n",
              "      <th id=\"T_78206_level0_col1\" class=\"col_heading level0 col1\" >MAE</th>\n",
              "      <th id=\"T_78206_level0_col2\" class=\"col_heading level0 col2\" >MSE</th>\n",
              "      <th id=\"T_78206_level0_col3\" class=\"col_heading level0 col3\" >RMSE</th>\n",
              "      <th id=\"T_78206_level0_col4\" class=\"col_heading level0 col4\" >R2</th>\n",
              "      <th id=\"T_78206_level0_col5\" class=\"col_heading level0 col5\" >RMSLE</th>\n",
              "      <th id=\"T_78206_level0_col6\" class=\"col_heading level0 col6\" >MAPE</th>\n",
              "      <th id=\"T_78206_level0_col7\" class=\"col_heading level0 col7\" >TT (Sec)</th>\n",
              "    </tr>\n",
              "  </thead>\n",
              "  <tbody>\n",
              "    <tr>\n",
              "      <th id=\"T_78206_level0_row0\" class=\"row_heading level0 row0\" >catboost</th>\n",
              "      <td id=\"T_78206_row0_col0\" class=\"data row0 col0\" >CatBoost Regressor</td>\n",
              "      <td id=\"T_78206_row0_col1\" class=\"data row0 col1\" >4.0271</td>\n",
              "      <td id=\"T_78206_row0_col2\" class=\"data row0 col2\" >115.3968</td>\n",
              "      <td id=\"T_78206_row0_col3\" class=\"data row0 col3\" >10.3804</td>\n",
              "      <td id=\"T_78206_row0_col4\" class=\"data row0 col4\" >0.5247</td>\n",
              "      <td id=\"T_78206_row0_col5\" class=\"data row0 col5\" >0.1526</td>\n",
              "      <td id=\"T_78206_row0_col6\" class=\"data row0 col6\" >0.0616</td>\n",
              "      <td id=\"T_78206_row0_col7\" class=\"data row0 col7\" >1.7070</td>\n",
              "    </tr>\n",
              "    <tr>\n",
              "      <th id=\"T_78206_level0_row1\" class=\"row_heading level0 row1\" >lightgbm</th>\n",
              "      <td id=\"T_78206_row1_col0\" class=\"data row1 col0\" >Light Gradient Boosting Machine</td>\n",
              "      <td id=\"T_78206_row1_col1\" class=\"data row1 col1\" >4.2607</td>\n",
              "      <td id=\"T_78206_row1_col2\" class=\"data row1 col2\" >123.5055</td>\n",
              "      <td id=\"T_78206_row1_col3\" class=\"data row1 col3\" >10.7292</td>\n",
              "      <td id=\"T_78206_row1_col4\" class=\"data row1 col4\" >0.4967</td>\n",
              "      <td id=\"T_78206_row1_col5\" class=\"data row1 col5\" >0.1201</td>\n",
              "      <td id=\"T_78206_row1_col6\" class=\"data row1 col6\" >0.0650</td>\n",
              "      <td id=\"T_78206_row1_col7\" class=\"data row1 col7\" >0.9870</td>\n",
              "    </tr>\n",
              "    <tr>\n",
              "      <th id=\"T_78206_level0_row2\" class=\"row_heading level0 row2\" >et</th>\n",
              "      <td id=\"T_78206_row2_col0\" class=\"data row2 col0\" >Extra Trees Regressor</td>\n",
              "      <td id=\"T_78206_row2_col1\" class=\"data row2 col1\" >3.5333</td>\n",
              "      <td id=\"T_78206_row2_col2\" class=\"data row2 col2\" >117.2581</td>\n",
              "      <td id=\"T_78206_row2_col3\" class=\"data row2 col3\" >10.6278</td>\n",
              "      <td id=\"T_78206_row2_col4\" class=\"data row2 col4\" >0.4896</td>\n",
              "      <td id=\"T_78206_row2_col5\" class=\"data row2 col5\" >0.1715</td>\n",
              "      <td id=\"T_78206_row2_col6\" class=\"data row2 col6\" >0.0540</td>\n",
              "      <td id=\"T_78206_row2_col7\" class=\"data row2 col7\" >0.7800</td>\n",
              "    </tr>\n",
              "    <tr>\n",
              "      <th id=\"T_78206_level0_row3\" class=\"row_heading level0 row3\" >gbr</th>\n",
              "      <td id=\"T_78206_row3_col0\" class=\"data row3 col0\" >Gradient Boosting Regressor</td>\n",
              "      <td id=\"T_78206_row3_col1\" class=\"data row3 col1\" >4.1053</td>\n",
              "      <td id=\"T_78206_row3_col2\" class=\"data row3 col2\" >128.5817</td>\n",
              "      <td id=\"T_78206_row3_col3\" class=\"data row3 col3\" >10.8334</td>\n",
              "      <td id=\"T_78206_row3_col4\" class=\"data row3 col4\" >0.4895</td>\n",
              "      <td id=\"T_78206_row3_col5\" class=\"data row3 col5\" >0.0870</td>\n",
              "      <td id=\"T_78206_row3_col6\" class=\"data row3 col6\" >0.0622</td>\n",
              "      <td id=\"T_78206_row3_col7\" class=\"data row3 col7\" >0.4750</td>\n",
              "    </tr>\n",
              "    <tr>\n",
              "      <th id=\"T_78206_level0_row4\" class=\"row_heading level0 row4\" >rf</th>\n",
              "      <td id=\"T_78206_row4_col0\" class=\"data row4 col0\" >Random Forest Regressor</td>\n",
              "      <td id=\"T_78206_row4_col1\" class=\"data row4 col1\" >3.5463</td>\n",
              "      <td id=\"T_78206_row4_col2\" class=\"data row4 col2\" >122.1190</td>\n",
              "      <td id=\"T_78206_row4_col3\" class=\"data row4 col3\" >10.8085</td>\n",
              "      <td id=\"T_78206_row4_col4\" class=\"data row4 col4\" >0.4806</td>\n",
              "      <td id=\"T_78206_row4_col5\" class=\"data row4 col5\" >0.1548</td>\n",
              "      <td id=\"T_78206_row4_col6\" class=\"data row4 col6\" >0.0540</td>\n",
              "      <td id=\"T_78206_row4_col7\" class=\"data row4 col7\" >1.2500</td>\n",
              "    </tr>\n",
              "    <tr>\n",
              "      <th id=\"T_78206_level0_row5\" class=\"row_heading level0 row5\" >xgboost</th>\n",
              "      <td id=\"T_78206_row5_col0\" class=\"data row5 col0\" >Extreme Gradient Boosting</td>\n",
              "      <td id=\"T_78206_row5_col1\" class=\"data row5 col1\" >4.1757</td>\n",
              "      <td id=\"T_78206_row5_col2\" class=\"data row5 col2\" >125.4238</td>\n",
              "      <td id=\"T_78206_row5_col3\" class=\"data row5 col3\" >10.9204</td>\n",
              "      <td id=\"T_78206_row5_col4\" class=\"data row5 col4\" >0.4703</td>\n",
              "      <td id=\"T_78206_row5_col5\" class=\"data row5 col5\" >0.1580</td>\n",
              "      <td id=\"T_78206_row5_col6\" class=\"data row5 col6\" >0.0646</td>\n",
              "      <td id=\"T_78206_row5_col7\" class=\"data row5 col7\" >1.2910</td>\n",
              "    </tr>\n",
              "    <tr>\n",
              "      <th id=\"T_78206_level0_row6\" class=\"row_heading level0 row6\" >knn</th>\n",
              "      <td id=\"T_78206_row6_col0\" class=\"data row6 col0\" >K Neighbors Regressor</td>\n",
              "      <td id=\"T_78206_row6_col1\" class=\"data row6 col1\" >4.4252</td>\n",
              "      <td id=\"T_78206_row6_col2\" class=\"data row6 col2\" >132.9453</td>\n",
              "      <td id=\"T_78206_row6_col3\" class=\"data row6 col3\" >11.2182</td>\n",
              "      <td id=\"T_78206_row6_col4\" class=\"data row6 col4\" >0.4467</td>\n",
              "      <td id=\"T_78206_row6_col5\" class=\"data row6 col5\" >0.1432</td>\n",
              "      <td id=\"T_78206_row6_col6\" class=\"data row6 col6\" >0.0679</td>\n",
              "      <td id=\"T_78206_row6_col7\" class=\"data row6 col7\" >0.1120</td>\n",
              "    </tr>\n",
              "    <tr>\n",
              "      <th id=\"T_78206_level0_row7\" class=\"row_heading level0 row7\" >ada</th>\n",
              "      <td id=\"T_78206_row7_col0\" class=\"data row7 col0\" >AdaBoost Regressor</td>\n",
              "      <td id=\"T_78206_row7_col1\" class=\"data row7 col1\" >5.7183</td>\n",
              "      <td id=\"T_78206_row7_col2\" class=\"data row7 col2\" >154.9763</td>\n",
              "      <td id=\"T_78206_row7_col3\" class=\"data row7 col3\" >11.9206</td>\n",
              "      <td id=\"T_78206_row7_col4\" class=\"data row7 col4\" >0.3755</td>\n",
              "      <td id=\"T_78206_row7_col5\" class=\"data row7 col5\" >0.1163</td>\n",
              "      <td id=\"T_78206_row7_col6\" class=\"data row7 col6\" >0.0854</td>\n",
              "      <td id=\"T_78206_row7_col7\" class=\"data row7 col7\" >0.1970</td>\n",
              "    </tr>\n",
              "    <tr>\n",
              "      <th id=\"T_78206_level0_row8\" class=\"row_heading level0 row8\" >dt</th>\n",
              "      <td id=\"T_78206_row8_col0\" class=\"data row8 col0\" >Decision Tree Regressor</td>\n",
              "      <td id=\"T_78206_row8_col1\" class=\"data row8 col1\" >4.0418</td>\n",
              "      <td id=\"T_78206_row8_col2\" class=\"data row8 col2\" >187.0155</td>\n",
              "      <td id=\"T_78206_row8_col3\" class=\"data row8 col3\" >13.3331</td>\n",
              "      <td id=\"T_78206_row8_col4\" class=\"data row8 col4\" >0.1414</td>\n",
              "      <td id=\"T_78206_row8_col5\" class=\"data row8 col5\" >0.0787</td>\n",
              "      <td id=\"T_78206_row8_col6\" class=\"data row8 col6\" >0.0625</td>\n",
              "      <td id=\"T_78206_row8_col7\" class=\"data row8 col7\" >0.1130</td>\n",
              "    </tr>\n",
              "    <tr>\n",
              "      <th id=\"T_78206_level0_row9\" class=\"row_heading level0 row9\" >omp</th>\n",
              "      <td id=\"T_78206_row9_col0\" class=\"data row9 col0\" >Orthogonal Matching Pursuit</td>\n",
              "      <td id=\"T_78206_row9_col1\" class=\"data row9 col1\" >9.3325</td>\n",
              "      <td id=\"T_78206_row9_col2\" class=\"data row9 col2\" >221.6254</td>\n",
              "      <td id=\"T_78206_row9_col3\" class=\"data row9 col3\" >14.6206</td>\n",
              "      <td id=\"T_78206_row9_col4\" class=\"data row9 col4\" >0.0503</td>\n",
              "      <td id=\"T_78206_row9_col5\" class=\"data row9 col5\" >0.1600</td>\n",
              "      <td id=\"T_78206_row9_col6\" class=\"data row9 col6\" >0.1440</td>\n",
              "      <td id=\"T_78206_row9_col7\" class=\"data row9 col7\" >0.1630</td>\n",
              "    </tr>\n",
              "    <tr>\n",
              "      <th id=\"T_78206_level0_row10\" class=\"row_heading level0 row10\" >ridge</th>\n",
              "      <td id=\"T_78206_row10_col0\" class=\"data row10 col0\" >Ridge Regression</td>\n",
              "      <td id=\"T_78206_row10_col1\" class=\"data row10 col1\" >9.3313</td>\n",
              "      <td id=\"T_78206_row10_col2\" class=\"data row10 col2\" >221.7062</td>\n",
              "      <td id=\"T_78206_row10_col3\" class=\"data row10 col3\" >14.6230</td>\n",
              "      <td id=\"T_78206_row10_col4\" class=\"data row10 col4\" >0.0500</td>\n",
              "      <td id=\"T_78206_row10_col5\" class=\"data row10 col5\" >0.1600</td>\n",
              "      <td id=\"T_78206_row10_col6\" class=\"data row10 col6\" >0.1440</td>\n",
              "      <td id=\"T_78206_row10_col7\" class=\"data row10 col7\" >0.1030</td>\n",
              "    </tr>\n",
              "    <tr>\n",
              "      <th id=\"T_78206_level0_row11\" class=\"row_heading level0 row11\" >lr</th>\n",
              "      <td id=\"T_78206_row11_col0\" class=\"data row11 col0\" >Linear Regression</td>\n",
              "      <td id=\"T_78206_row11_col1\" class=\"data row11 col1\" >9.3313</td>\n",
              "      <td id=\"T_78206_row11_col2\" class=\"data row11 col2\" >221.7062</td>\n",
              "      <td id=\"T_78206_row11_col3\" class=\"data row11 col3\" >14.6230</td>\n",
              "      <td id=\"T_78206_row11_col4\" class=\"data row11 col4\" >0.0500</td>\n",
              "      <td id=\"T_78206_row11_col5\" class=\"data row11 col5\" >0.1600</td>\n",
              "      <td id=\"T_78206_row11_col6\" class=\"data row11 col6\" >0.1440</td>\n",
              "      <td id=\"T_78206_row11_col7\" class=\"data row11 col7\" >0.6000</td>\n",
              "    </tr>\n",
              "    <tr>\n",
              "      <th id=\"T_78206_level0_row12\" class=\"row_heading level0 row12\" >lar</th>\n",
              "      <td id=\"T_78206_row12_col0\" class=\"data row12 col0\" >Least Angle Regression</td>\n",
              "      <td id=\"T_78206_row12_col1\" class=\"data row12 col1\" >9.3313</td>\n",
              "      <td id=\"T_78206_row12_col2\" class=\"data row12 col2\" >221.7062</td>\n",
              "      <td id=\"T_78206_row12_col3\" class=\"data row12 col3\" >14.6230</td>\n",
              "      <td id=\"T_78206_row12_col4\" class=\"data row12 col4\" >0.0500</td>\n",
              "      <td id=\"T_78206_row12_col5\" class=\"data row12 col5\" >0.1600</td>\n",
              "      <td id=\"T_78206_row12_col6\" class=\"data row12 col6\" >0.1440</td>\n",
              "      <td id=\"T_78206_row12_col7\" class=\"data row12 col7\" >0.1020</td>\n",
              "    </tr>\n",
              "    <tr>\n",
              "      <th id=\"T_78206_level0_row13\" class=\"row_heading level0 row13\" >br</th>\n",
              "      <td id=\"T_78206_row13_col0\" class=\"data row13 col0\" >Bayesian Ridge</td>\n",
              "      <td id=\"T_78206_row13_col1\" class=\"data row13 col1\" >9.3359</td>\n",
              "      <td id=\"T_78206_row13_col2\" class=\"data row13 col2\" >221.7074</td>\n",
              "      <td id=\"T_78206_row13_col3\" class=\"data row13 col3\" >14.6230</td>\n",
              "      <td id=\"T_78206_row13_col4\" class=\"data row13 col4\" >0.0500</td>\n",
              "      <td id=\"T_78206_row13_col5\" class=\"data row13 col5\" >0.1601</td>\n",
              "      <td id=\"T_78206_row13_col6\" class=\"data row13 col6\" >0.1441</td>\n",
              "      <td id=\"T_78206_row13_col7\" class=\"data row13 col7\" >0.1970</td>\n",
              "    </tr>\n",
              "    <tr>\n",
              "      <th id=\"T_78206_level0_row14\" class=\"row_heading level0 row14\" >lasso</th>\n",
              "      <td id=\"T_78206_row14_col0\" class=\"data row14 col0\" >Lasso Regression</td>\n",
              "      <td id=\"T_78206_row14_col1\" class=\"data row14 col1\" >9.3733</td>\n",
              "      <td id=\"T_78206_row14_col2\" class=\"data row14 col2\" >221.7373</td>\n",
              "      <td id=\"T_78206_row14_col3\" class=\"data row14 col3\" >14.6245</td>\n",
              "      <td id=\"T_78206_row14_col4\" class=\"data row14 col4\" >0.0498</td>\n",
              "      <td id=\"T_78206_row14_col5\" class=\"data row14 col5\" >0.1603</td>\n",
              "      <td id=\"T_78206_row14_col6\" class=\"data row14 col6\" >0.1448</td>\n",
              "      <td id=\"T_78206_row14_col7\" class=\"data row14 col7\" >0.1060</td>\n",
              "    </tr>\n",
              "    <tr>\n",
              "      <th id=\"T_78206_level0_row15\" class=\"row_heading level0 row15\" >en</th>\n",
              "      <td id=\"T_78206_row15_col0\" class=\"data row15 col0\" >Elastic Net</td>\n",
              "      <td id=\"T_78206_row15_col1\" class=\"data row15 col1\" >9.3695</td>\n",
              "      <td id=\"T_78206_row15_col2\" class=\"data row15 col2\" >221.7303</td>\n",
              "      <td id=\"T_78206_row15_col3\" class=\"data row15 col3\" >14.6241</td>\n",
              "      <td id=\"T_78206_row15_col4\" class=\"data row15 col4\" >0.0498</td>\n",
              "      <td id=\"T_78206_row15_col5\" class=\"data row15 col5\" >0.1603</td>\n",
              "      <td id=\"T_78206_row15_col6\" class=\"data row15 col6\" >0.1447</td>\n",
              "      <td id=\"T_78206_row15_col7\" class=\"data row15 col7\" >0.1020</td>\n",
              "    </tr>\n",
              "    <tr>\n",
              "      <th id=\"T_78206_level0_row16\" class=\"row_heading level0 row16\" >llar</th>\n",
              "      <td id=\"T_78206_row16_col0\" class=\"data row16 col0\" >Lasso Least Angle Regression</td>\n",
              "      <td id=\"T_78206_row16_col1\" class=\"data row16 col1\" >9.3733</td>\n",
              "      <td id=\"T_78206_row16_col2\" class=\"data row16 col2\" >221.7373</td>\n",
              "      <td id=\"T_78206_row16_col3\" class=\"data row16 col3\" >14.6245</td>\n",
              "      <td id=\"T_78206_row16_col4\" class=\"data row16 col4\" >0.0498</td>\n",
              "      <td id=\"T_78206_row16_col5\" class=\"data row16 col5\" >0.1603</td>\n",
              "      <td id=\"T_78206_row16_col6\" class=\"data row16 col6\" >0.1448</td>\n",
              "      <td id=\"T_78206_row16_col7\" class=\"data row16 col7\" >0.1360</td>\n",
              "    </tr>\n",
              "    <tr>\n",
              "      <th id=\"T_78206_level0_row17\" class=\"row_heading level0 row17\" >huber</th>\n",
              "      <td id=\"T_78206_row17_col0\" class=\"data row17 col0\" >Huber Regressor</td>\n",
              "      <td id=\"T_78206_row17_col1\" class=\"data row17 col1\" >9.1942</td>\n",
              "      <td id=\"T_78206_row17_col2\" class=\"data row17 col2\" >224.1641</td>\n",
              "      <td id=\"T_78206_row17_col3\" class=\"data row17 col3\" >14.6989</td>\n",
              "      <td id=\"T_78206_row17_col4\" class=\"data row17 col4\" >0.0407</td>\n",
              "      <td id=\"T_78206_row17_col5\" class=\"data row17 col5\" >0.1606</td>\n",
              "      <td id=\"T_78206_row17_col6\" class=\"data row17 col6\" >0.1439</td>\n",
              "      <td id=\"T_78206_row17_col7\" class=\"data row17 col7\" >0.1330</td>\n",
              "    </tr>\n",
              "    <tr>\n",
              "      <th id=\"T_78206_level0_row18\" class=\"row_heading level0 row18\" >dummy</th>\n",
              "      <td id=\"T_78206_row18_col0\" class=\"data row18 col0\" >Dummy Regressor</td>\n",
              "      <td id=\"T_78206_row18_col1\" class=\"data row18 col1\" >10.0205</td>\n",
              "      <td id=\"T_78206_row18_col2\" class=\"data row18 col2\" >232.4672</td>\n",
              "      <td id=\"T_78206_row18_col3\" class=\"data row18 col3\" >14.9986</td>\n",
              "      <td id=\"T_78206_row18_col4\" class=\"data row18 col4\" >-0.0028</td>\n",
              "      <td id=\"T_78206_row18_col5\" class=\"data row18 col5\" >0.1696</td>\n",
              "      <td id=\"T_78206_row18_col6\" class=\"data row18 col6\" >0.1557</td>\n",
              "      <td id=\"T_78206_row18_col7\" class=\"data row18 col7\" >0.1240</td>\n",
              "    </tr>\n",
              "    <tr>\n",
              "      <th id=\"T_78206_level0_row19\" class=\"row_heading level0 row19\" >par</th>\n",
              "      <td id=\"T_78206_row19_col0\" class=\"data row19 col0\" >Passive Aggressive Regressor</td>\n",
              "      <td id=\"T_78206_row19_col1\" class=\"data row19 col1\" >11.3286</td>\n",
              "      <td id=\"T_78206_row19_col2\" class=\"data row19 col2\" >289.7392</td>\n",
              "      <td id=\"T_78206_row19_col3\" class=\"data row19 col3\" >16.6799</td>\n",
              "      <td id=\"T_78206_row19_col4\" class=\"data row19 col4\" >-0.2502</td>\n",
              "      <td id=\"T_78206_row19_col5\" class=\"data row19 col5\" >0.1997</td>\n",
              "      <td id=\"T_78206_row19_col6\" class=\"data row19 col6\" >0.1896</td>\n",
              "      <td id=\"T_78206_row19_col7\" class=\"data row19 col7\" >0.1390</td>\n",
              "    </tr>\n",
              "  </tbody>\n",
              "</table>\n"
            ]
          },
          "metadata": {}
        },
        {
          "output_type": "display_data",
          "data": {
            "text/plain": [
              "Processing:   0%|          | 0/85 [00:00<?, ?it/s]"
            ],
            "application/vnd.jupyter.widget-view+json": {
              "version_major": 2,
              "version_minor": 0,
              "model_id": "2417082aa0a74e81ab0d6182e45d8985"
            }
          },
          "metadata": {
            "application/vnd.jupyter.widget-view+json": {
              "colab": {
                "custom_widget_manager": {
                  "url": "https://ssl.gstatic.com/colaboratory-static/widgets/colab-cdn-widget-manager/2b70e893a8ba7c0f/manager.min.js"
                }
              }
            }
          }
        },
        {
          "output_type": "display_data",
          "data": {
            "text/plain": [
              "<IPython.core.display.HTML object>"
            ],
            "text/html": []
          },
          "metadata": {}
        }
      ],
      "source": [
        "import pandas as pd\n",
        "df = pd.read_csv('city_temperature.csv')\n",
        "\n",
        "from pycaret.regression import *\n",
        "\n",
        "# Set up PyCaret with the target variable\n",
        "setup(df, target='AvgTemperature', session_id=123)\n",
        "\n",
        "# Compare multiple models and select the best one\n",
        "best_model = compare_models()"
      ]
    },
    {
      "cell_type": "code",
      "execution_count": 3,
      "metadata": {
        "id": "dI5UXNLSm5LH",
        "colab": {
          "base_uri": "https://localhost:8080/"
        },
        "outputId": "7c5afe7b-866b-4209-fd9c-d5330189c8ad"
      },
      "outputs": [
        {
          "output_type": "stream",
          "name": "stdout",
          "text": [
            "<catboost.core.CatBoostRegressor object at 0x7c07ea9956f0>\n"
          ]
        }
      ],
      "source": [
        "print(best_model)"
      ]
    },
    {
      "cell_type": "code",
      "execution_count": 4,
      "metadata": {
        "id": "H4G4lwB8m9dT",
        "colab": {
          "base_uri": "https://localhost:8080/",
          "height": 209,
          "referenced_widgets": [
            "b9a84cf2af7340d5aa3f68b4d5a38ba7",
            "1c2b7637a532434bbddc95a09288b625",
            "f077adcefe1c42e0bd9faa3f4ab0ed79",
            "3449b14a13d644bd885e96cf4a21a01c",
            "0eda82f376f34233b7a99d3ab0cc104d",
            "9d6aef374eca4d3cb5eb0fef33b078b1",
            "7080edfe27254e5393597e27142cfcb0"
          ]
        },
        "outputId": "12b0f41f-e516-4493-cf6e-b40c3642393b"
      },
      "outputs": [
        {
          "output_type": "display_data",
          "data": {
            "text/plain": [
              "interactive(children=(ToggleButtons(description='Plot Type:', icons=('',), options=(('Pipeline Plot', 'pipelin…"
            ],
            "application/vnd.jupyter.widget-view+json": {
              "version_major": 2,
              "version_minor": 0,
              "model_id": "b9a84cf2af7340d5aa3f68b4d5a38ba7"
            }
          },
          "metadata": {
            "application/vnd.jupyter.widget-view+json": {
              "colab": {
                "custom_widget_manager": {
                  "url": "https://ssl.gstatic.com/colaboratory-static/widgets/colab-cdn-widget-manager/2b70e893a8ba7c0f/manager.min.js"
                }
              }
            }
          }
        }
      ],
      "source": [
        "evaluate_model(best_model)"
      ]
    },
    {
      "cell_type": "code",
      "execution_count": 5,
      "metadata": {
        "id": "V6_ckj5ynAmZ",
        "colab": {
          "base_uri": "https://localhost:8080/",
          "height": 705,
          "referenced_widgets": [
            "4f4cbec0cc9440abaab3b7098efde182",
            "b3b5613cb3384b669ae03b3e82ec6962",
            "e3f9678b80a04889a3c9835dce275d2b",
            "3a418d9104864e729954e6b51a584915",
            "ee50419fc94246189686737a75462f4f",
            "0de511012aed47268fe97b7a585183a4",
            "8a9c43c1fbfe4542a6c8b22b266e94ac",
            "7b0fc5b652294603bbedd82bb6f5bc32",
            "753d691949bb42908868c1372e56ba36",
            "cbb0b0c5e372436683935bc642f8dfc3",
            "fd62f2c79d9c4578b5d733786aaecfa1",
            "4c50e9f9f06c48408e913d8bc8c5d82e",
            "f0de0c687c754c4f8377a19f64a27d62",
            "7d946aaee6314b4f891a9bd5556f8fd0",
            "4aa15ac2966d4a6f8807644071be357f",
            "04785a1efe2443f4abca947c1c037cf6",
            "72a9f724d9ba4dc4aed2714deddd88ad",
            "2cec601145804285930ab2d5254fe772"
          ]
        },
        "outputId": "e2694f4d-d9c0-4882-8cc9-d1df71795cb5"
      },
      "outputs": [
        {
          "output_type": "display_data",
          "data": {
            "text/plain": [
              "<IPython.core.display.HTML object>"
            ],
            "text/html": []
          },
          "metadata": {}
        },
        {
          "output_type": "display_data",
          "data": {
            "text/plain": [
              "<pandas.io.formats.style.Styler at 0x7c07eae45a50>"
            ],
            "text/html": [
              "<style type=\"text/css\">\n",
              "#T_dbebb_row10_col0, #T_dbebb_row10_col1, #T_dbebb_row10_col2, #T_dbebb_row10_col3, #T_dbebb_row10_col4, #T_dbebb_row10_col5 {\n",
              "  background: yellow;\n",
              "}\n",
              "</style>\n",
              "<table id=\"T_dbebb\" class=\"dataframe\">\n",
              "  <thead>\n",
              "    <tr>\n",
              "      <th class=\"blank level0\" >&nbsp;</th>\n",
              "      <th id=\"T_dbebb_level0_col0\" class=\"col_heading level0 col0\" >MAE</th>\n",
              "      <th id=\"T_dbebb_level0_col1\" class=\"col_heading level0 col1\" >MSE</th>\n",
              "      <th id=\"T_dbebb_level0_col2\" class=\"col_heading level0 col2\" >RMSE</th>\n",
              "      <th id=\"T_dbebb_level0_col3\" class=\"col_heading level0 col3\" >R2</th>\n",
              "      <th id=\"T_dbebb_level0_col4\" class=\"col_heading level0 col4\" >RMSLE</th>\n",
              "      <th id=\"T_dbebb_level0_col5\" class=\"col_heading level0 col5\" >MAPE</th>\n",
              "    </tr>\n",
              "    <tr>\n",
              "      <th class=\"index_name level0\" >Fold</th>\n",
              "      <th class=\"blank col0\" >&nbsp;</th>\n",
              "      <th class=\"blank col1\" >&nbsp;</th>\n",
              "      <th class=\"blank col2\" >&nbsp;</th>\n",
              "      <th class=\"blank col3\" >&nbsp;</th>\n",
              "      <th class=\"blank col4\" >&nbsp;</th>\n",
              "      <th class=\"blank col5\" >&nbsp;</th>\n",
              "    </tr>\n",
              "  </thead>\n",
              "  <tbody>\n",
              "    <tr>\n",
              "      <th id=\"T_dbebb_level0_row0\" class=\"row_heading level0 row0\" >0</th>\n",
              "      <td id=\"T_dbebb_row0_col0\" class=\"data row0 col0\" >4.6726</td>\n",
              "      <td id=\"T_dbebb_row0_col1\" class=\"data row0 col1\" >197.2248</td>\n",
              "      <td id=\"T_dbebb_row0_col2\" class=\"data row0 col2\" >14.0437</td>\n",
              "      <td id=\"T_dbebb_row0_col3\" class=\"data row0 col3\" >0.4490</td>\n",
              "      <td id=\"T_dbebb_row0_col4\" class=\"data row0 col4\" >0.1792</td>\n",
              "      <td id=\"T_dbebb_row0_col5\" class=\"data row0 col5\" >0.0690</td>\n",
              "    </tr>\n",
              "    <tr>\n",
              "      <th id=\"T_dbebb_level0_row1\" class=\"row_heading level0 row1\" >1</th>\n",
              "      <td id=\"T_dbebb_row1_col0\" class=\"data row1 col0\" >4.6517</td>\n",
              "      <td id=\"T_dbebb_row1_col1\" class=\"data row1 col1\" >217.4474</td>\n",
              "      <td id=\"T_dbebb_row1_col2\" class=\"data row1 col2\" >14.7461</td>\n",
              "      <td id=\"T_dbebb_row1_col3\" class=\"data row1 col3\" >0.4123</td>\n",
              "      <td id=\"T_dbebb_row1_col4\" class=\"data row1 col4\" >0.1640</td>\n",
              "      <td id=\"T_dbebb_row1_col5\" class=\"data row1 col5\" >0.0678</td>\n",
              "    </tr>\n",
              "    <tr>\n",
              "      <th id=\"T_dbebb_level0_row2\" class=\"row_heading level0 row2\" >2</th>\n",
              "      <td id=\"T_dbebb_row2_col0\" class=\"data row2 col0\" >3.3128</td>\n",
              "      <td id=\"T_dbebb_row2_col1\" class=\"data row2 col1\" >20.4238</td>\n",
              "      <td id=\"T_dbebb_row2_col2\" class=\"data row2 col2\" >4.5193</td>\n",
              "      <td id=\"T_dbebb_row2_col3\" class=\"data row2 col3\" >0.8235</td>\n",
              "      <td id=\"T_dbebb_row2_col4\" class=\"data row2 col4\" >0.0745</td>\n",
              "      <td id=\"T_dbebb_row2_col5\" class=\"data row2 col5\" >0.0534</td>\n",
              "    </tr>\n",
              "    <tr>\n",
              "      <th id=\"T_dbebb_level0_row3\" class=\"row_heading level0 row3\" >3</th>\n",
              "      <td id=\"T_dbebb_row3_col0\" class=\"data row3 col0\" >3.7254</td>\n",
              "      <td id=\"T_dbebb_row3_col1\" class=\"data row3 col1\" >71.6773</td>\n",
              "      <td id=\"T_dbebb_row3_col2\" class=\"data row3 col2\" >8.4662</td>\n",
              "      <td id=\"T_dbebb_row3_col3\" class=\"data row3 col3\" >0.5421</td>\n",
              "      <td id=\"T_dbebb_row3_col4\" class=\"data row3 col4\" >0.0811</td>\n",
              "      <td id=\"T_dbebb_row3_col5\" class=\"data row3 col5\" >0.0577</td>\n",
              "    </tr>\n",
              "    <tr>\n",
              "      <th id=\"T_dbebb_level0_row4\" class=\"row_heading level0 row4\" >4</th>\n",
              "      <td id=\"T_dbebb_row4_col0\" class=\"data row4 col0\" >4.0787</td>\n",
              "      <td id=\"T_dbebb_row4_col1\" class=\"data row4 col1\" >101.0623</td>\n",
              "      <td id=\"T_dbebb_row4_col2\" class=\"data row4 col2\" >10.0530</td>\n",
              "      <td id=\"T_dbebb_row4_col3\" class=\"data row4 col3\" >0.4840</td>\n",
              "      <td id=\"T_dbebb_row4_col4\" class=\"data row4 col4\" >0.1088</td>\n",
              "      <td id=\"T_dbebb_row4_col5\" class=\"data row4 col5\" >0.0633</td>\n",
              "    </tr>\n",
              "    <tr>\n",
              "      <th id=\"T_dbebb_level0_row5\" class=\"row_heading level0 row5\" >5</th>\n",
              "      <td id=\"T_dbebb_row5_col0\" class=\"data row5 col0\" >3.8940</td>\n",
              "      <td id=\"T_dbebb_row5_col1\" class=\"data row5 col1\" >110.8288</td>\n",
              "      <td id=\"T_dbebb_row5_col2\" class=\"data row5 col2\" >10.5275</td>\n",
              "      <td id=\"T_dbebb_row5_col3\" class=\"data row5 col3\" >0.5476</td>\n",
              "      <td id=\"T_dbebb_row5_col4\" class=\"data row5 col4\" >0.1116</td>\n",
              "      <td id=\"T_dbebb_row5_col5\" class=\"data row5 col5\" >0.0592</td>\n",
              "    </tr>\n",
              "    <tr>\n",
              "      <th id=\"T_dbebb_level0_row6\" class=\"row_heading level0 row6\" >6</th>\n",
              "      <td id=\"T_dbebb_row6_col0\" class=\"data row6 col0\" >3.8144</td>\n",
              "      <td id=\"T_dbebb_row6_col1\" class=\"data row6 col1\" >73.0983</td>\n",
              "      <td id=\"T_dbebb_row6_col2\" class=\"data row6 col2\" >8.5498</td>\n",
              "      <td id=\"T_dbebb_row6_col3\" class=\"data row6 col3\" >0.5227</td>\n",
              "      <td id=\"T_dbebb_row6_col4\" class=\"data row6 col4\" >0.1003</td>\n",
              "      <td id=\"T_dbebb_row6_col5\" class=\"data row6 col5\" >0.0590</td>\n",
              "    </tr>\n",
              "    <tr>\n",
              "      <th id=\"T_dbebb_level0_row7\" class=\"row_heading level0 row7\" >7</th>\n",
              "      <td id=\"T_dbebb_row7_col0\" class=\"data row7 col0\" >3.8496</td>\n",
              "      <td id=\"T_dbebb_row7_col1\" class=\"data row7 col1\" >100.0271</td>\n",
              "      <td id=\"T_dbebb_row7_col2\" class=\"data row7 col2\" >10.0014</td>\n",
              "      <td id=\"T_dbebb_row7_col3\" class=\"data row7 col3\" >0.4989</td>\n",
              "      <td id=\"T_dbebb_row7_col4\" class=\"data row7 col4\" >0.1215</td>\n",
              "      <td id=\"T_dbebb_row7_col5\" class=\"data row7 col5\" >0.0597</td>\n",
              "    </tr>\n",
              "    <tr>\n",
              "      <th id=\"T_dbebb_level0_row8\" class=\"row_heading level0 row8\" >8</th>\n",
              "      <td id=\"T_dbebb_row8_col0\" class=\"data row8 col0\" >4.4259</td>\n",
              "      <td id=\"T_dbebb_row8_col1\" class=\"data row8 col1\" >177.2560</td>\n",
              "      <td id=\"T_dbebb_row8_col2\" class=\"data row8 col2\" >13.3138</td>\n",
              "      <td id=\"T_dbebb_row8_col3\" class=\"data row8 col3\" >0.4441</td>\n",
              "      <td id=\"T_dbebb_row8_col4\" class=\"data row8 col4\" >0.1237</td>\n",
              "      <td id=\"T_dbebb_row8_col5\" class=\"data row8 col5\" >0.0644</td>\n",
              "    </tr>\n",
              "    <tr>\n",
              "      <th id=\"T_dbebb_level0_row9\" class=\"row_heading level0 row9\" >9</th>\n",
              "      <td id=\"T_dbebb_row9_col0\" class=\"data row9 col0\" >4.0042</td>\n",
              "      <td id=\"T_dbebb_row9_col1\" class=\"data row9 col1\" >105.6717</td>\n",
              "      <td id=\"T_dbebb_row9_col2\" class=\"data row9 col2\" >10.2797</td>\n",
              "      <td id=\"T_dbebb_row9_col3\" class=\"data row9 col3\" >0.4873</td>\n",
              "      <td id=\"T_dbebb_row9_col4\" class=\"data row9 col4\" >0.0939</td>\n",
              "      <td id=\"T_dbebb_row9_col5\" class=\"data row9 col5\" >0.0619</td>\n",
              "    </tr>\n",
              "    <tr>\n",
              "      <th id=\"T_dbebb_level0_row10\" class=\"row_heading level0 row10\" >Mean</th>\n",
              "      <td id=\"T_dbebb_row10_col0\" class=\"data row10 col0\" >4.0429</td>\n",
              "      <td id=\"T_dbebb_row10_col1\" class=\"data row10 col1\" >117.4718</td>\n",
              "      <td id=\"T_dbebb_row10_col2\" class=\"data row10 col2\" >10.4500</td>\n",
              "      <td id=\"T_dbebb_row10_col3\" class=\"data row10 col3\" >0.5212</td>\n",
              "      <td id=\"T_dbebb_row10_col4\" class=\"data row10 col4\" >0.1158</td>\n",
              "      <td id=\"T_dbebb_row10_col5\" class=\"data row10 col5\" >0.0615</td>\n",
              "    </tr>\n",
              "    <tr>\n",
              "      <th id=\"T_dbebb_level0_row11\" class=\"row_heading level0 row11\" >Std</th>\n",
              "      <td id=\"T_dbebb_row11_col0\" class=\"data row11 col0\" >0.4077</td>\n",
              "      <td id=\"T_dbebb_row11_col1\" class=\"data row11 col1\" >58.4562</td>\n",
              "      <td id=\"T_dbebb_row11_col2\" class=\"data row11 col2\" >2.8755</td>\n",
              "      <td id=\"T_dbebb_row11_col3\" class=\"data row11 col3\" >0.1089</td>\n",
              "      <td id=\"T_dbebb_row11_col4\" class=\"data row11 col4\" >0.0318</td>\n",
              "      <td id=\"T_dbebb_row11_col5\" class=\"data row11 col5\" >0.0045</td>\n",
              "    </tr>\n",
              "  </tbody>\n",
              "</table>\n"
            ]
          },
          "metadata": {}
        },
        {
          "output_type": "display_data",
          "data": {
            "text/plain": [
              "Processing:   0%|          | 0/7 [00:00<?, ?it/s]"
            ],
            "application/vnd.jupyter.widget-view+json": {
              "version_major": 2,
              "version_minor": 0,
              "model_id": "4f4cbec0cc9440abaab3b7098efde182"
            }
          },
          "metadata": {
            "application/vnd.jupyter.widget-view+json": {
              "colab": {
                "custom_widget_manager": {
                  "url": "https://ssl.gstatic.com/colaboratory-static/widgets/colab-cdn-widget-manager/2b70e893a8ba7c0f/manager.min.js"
                }
              }
            }
          }
        },
        {
          "output_type": "stream",
          "name": "stdout",
          "text": [
            "Fitting 10 folds for each of 10 candidates, totalling 100 fits\n"
          ]
        },
        {
          "output_type": "display_data",
          "data": {
            "text/plain": [
              "<IPython.core.display.HTML object>"
            ],
            "text/html": []
          },
          "metadata": {}
        },
        {
          "output_type": "stream",
          "name": "stdout",
          "text": [
            "Original model was better than the tuned model, hence it will be returned. NOTE: The display metrics are for the tuned model (not the original one).\n"
          ]
        },
        {
          "output_type": "display_data",
          "data": {
            "text/plain": [
              "interactive(children=(ToggleButtons(description='Plot Type:', icons=('',), options=(('Pipeline Plot', 'pipelin…"
            ],
            "application/vnd.jupyter.widget-view+json": {
              "version_major": 2,
              "version_minor": 0,
              "model_id": "04785a1efe2443f4abca947c1c037cf6"
            }
          },
          "metadata": {
            "application/vnd.jupyter.widget-view+json": {
              "colab": {
                "custom_widget_manager": {
                  "url": "https://ssl.gstatic.com/colaboratory-static/widgets/colab-cdn-widget-manager/2b70e893a8ba7c0f/manager.min.js"
                }
              }
            }
          }
        }
      ],
      "source": [
        "tuned_model = tune_model(best_model)\n",
        "evaluate_model(tuned_model)"
      ]
    },
    {
      "cell_type": "code",
      "execution_count": 6,
      "metadata": {
        "id": "olZCkm90nD3W",
        "colab": {
          "base_uri": "https://localhost:8080/",
          "height": 485
        },
        "outputId": "ac16a695-0c88-4c99-c9c3-12236feb9ef3"
      },
      "outputs": [
        {
          "output_type": "display_data",
          "data": {
            "text/plain": [
              "<IPython.core.display.HTML object>"
            ],
            "text/html": []
          },
          "metadata": {}
        },
        {
          "output_type": "display_data",
          "data": {
            "text/plain": [
              "<Figure size 800x500 with 1 Axes>"
            ],
            "image/png": "[encoded data removed]"
          },
          "metadata": {}
        }
      ],
      "source": [
        "plot_model(tuned_model, plot='feature')"
      ]
    },
    {
      "cell_type": "code",
      "execution_count": 7,
      "metadata": {
        "id": "u1AY5EU8nGwg",
        "colab": {
          "base_uri": "https://localhost:8080/"
        },
        "outputId": "28894273-21c5-49d1-acf9-3ac5c71785b9"
      },
      "outputs": [
        {
          "output_type": "stream",
          "name": "stdout",
          "text": [
            "Transformation Pipeline and Model Successfully Saved\n"
          ]
        },
        {
          "output_type": "execute_result",
          "data": {
            "text/plain": [
              "(Pipeline(memory=Memory(location=None),\n",
              "          steps=[('numerical_imputer',\n",
              "                  TransformerWrapper(include=['State', 'Month', 'Day', 'Year'],\n",
              "                                     transformer=SimpleImputer())),\n",
              "                 ('categorical_imputer',\n",
              "                  TransformerWrapper(include=['Region', 'Country', 'City'],\n",
              "                                     transformer=SimpleImputer(strategy='most_frequent'))),\n",
              "                 ('onehot_encoding',\n",
              "                  TransformerWrapper(include=['Region', 'Country', 'City'],\n",
              "                                     transformer=OneHotEncoder(cols=['Region',\n",
              "                                                                     'Country',\n",
              "                                                                     'City'],\n",
              "                                                               handle_missing='return_nan',\n",
              "                                                               use_cat_names=True))),\n",
              "                 ('actual_estimator',\n",
              "                  <catboost.core.CatBoostRegressor object at 0x7c07eb3a57b0>)]),\n",
              " 'final_temperature_model.pkl')"
            ]
          },
          "metadata": {},
          "execution_count": 7
        }
      ],
      "source": [
        "final_model = finalize_model(tuned_model)\n",
        "save_model(final_model, 'final_temperature_model')"
      ]
    },
    {
      "cell_type": "code",
      "execution_count": 8,
      "metadata": {
        "id": "3F8GUD7nnJf2",
        "colab": {
          "base_uri": "https://localhost:8080/",
          "height": 270
        },
        "outputId": "c609a420-c376-44ae-e085-676786897e49"
      },
      "outputs": [
        {
          "output_type": "display_data",
          "data": {
            "text/plain": [
              "<pandas.io.formats.style.Styler at 0x7c07eaf09420>"
            ],
            "text/html": [
              "<style type=\"text/css\">\n",
              "</style>\n",
              "<table id=\"T_33b5a\" class=\"dataframe\">\n",
              "  <thead>\n",
              "    <tr>\n",
              "      <th class=\"blank level0\" >&nbsp;</th>\n",
              "      <th id=\"T_33b5a_level0_col0\" class=\"col_heading level0 col0\" >Model</th>\n",
              "      <th id=\"T_33b5a_level0_col1\" class=\"col_heading level0 col1\" >MAE</th>\n",
              "      <th id=\"T_33b5a_level0_col2\" class=\"col_heading level0 col2\" >MSE</th>\n",
              "      <th id=\"T_33b5a_level0_col3\" class=\"col_heading level0 col3\" >RMSE</th>\n",
              "      <th id=\"T_33b5a_level0_col4\" class=\"col_heading level0 col4\" >R2</th>\n",
              "      <th id=\"T_33b5a_level0_col5\" class=\"col_heading level0 col5\" >RMSLE</th>\n",
              "      <th id=\"T_33b5a_level0_col6\" class=\"col_heading level0 col6\" >MAPE</th>\n",
              "    </tr>\n",
              "  </thead>\n",
              "  <tbody>\n",
              "    <tr>\n",
              "      <th id=\"T_33b5a_level0_row0\" class=\"row_heading level0 row0\" >0</th>\n",
              "      <td id=\"T_33b5a_row0_col0\" class=\"data row0 col0\" >CatBoost Regressor</td>\n",
              "      <td id=\"T_33b5a_row0_col1\" class=\"data row0 col1\" >3.2507</td>\n",
              "      <td id=\"T_33b5a_row0_col2\" class=\"data row0 col2\" >47.9282</td>\n",
              "      <td id=\"T_33b5a_row0_col3\" class=\"data row0 col3\" >6.9230</td>\n",
              "      <td id=\"T_33b5a_row0_col4\" class=\"data row0 col4\" >0.7811</td>\n",
              "      <td id=\"T_33b5a_row0_col5\" class=\"data row0 col5\" >0.1046</td>\n",
              "      <td id=\"T_33b5a_row0_col6\" class=\"data row0 col6\" >0.0504</td>\n",
              "    </tr>\n",
              "  </tbody>\n",
              "</table>\n"
            ]
          },
          "metadata": {}
        },
        {
          "output_type": "execute_result",
          "data": {
            "text/plain": [
              "   Region  Country  State     City  Month  Day  Year  AvgTemperature  \\\n",
              "0  Africa  Algeria    NaN  Algiers      1    1  1995       64.199997   \n",
              "1  Africa  Algeria    NaN  Algiers      1    2  1995       49.400002   \n",
              "2  Africa  Algeria    NaN  Algiers      1    3  1995       48.799999   \n",
              "3  Africa  Algeria    NaN  Algiers      1    4  1995       46.400002   \n",
              "4  Africa  Algeria    NaN  Algiers      1    5  1995       47.900002   \n",
              "\n",
              "   prediction_label  \n",
              "0         53.761922  \n",
              "1         51.361840  \n",
              "2         51.508732  \n",
              "3         50.984303  \n",
              "4         50.044192  "
            ],
            "text/html": [
              "\n",
              "  <div id=\"df-cc4fa845-0870-4178-acd6-79229e80f331\" class=\"colab-df-container\">\n",
              "    <div>\n",
              "<style scoped>\n",
              "    .dataframe tbody tr th:only-of-type {\n",
              "        vertical-align: middle;\n",
              "    }\n",
              "\n",
              "    .dataframe tbody tr th {\n",
              "        vertical-align: top;\n",
              "    }\n",
              "\n",
              "    .dataframe thead th {\n",
              "        text-align: right;\n",
              "    }\n",
              "</style>\n",
              "<table border=\"1\" class=\"dataframe\">\n",
              "  <thead>\n",
              "    <tr style=\"text-align: right;\">\n",
              "      <th></th>\n",
              "      <th>Region</th>\n",
              "      <th>Country</th>\n",
              "      <th>State</th>\n",
              "      <th>City</th>\n",
              "      <th>Month</th>\n",
              "      <th>Day</th>\n",
              "      <th>Year</th>\n",
              "      <th>AvgTemperature</th>\n",
              "      <th>prediction_label</th>\n",
              "    </tr>\n",
              "  </thead>\n",
              "  <tbody>\n",
              "    <tr>\n",
              "      <th>0</th>\n",
              "      <td>Africa</td>\n",
              "      <td>Algeria</td>\n",
              "      <td>NaN</td>\n",
              "      <td>Algiers</td>\n",
              "      <td>1</td>\n",
              "      <td>1</td>\n",
              "      <td>1995</td>\n",
              "      <td>64.199997</td>\n",
              "      <td>53.761922</td>\n",
              "    </tr>\n",
              "    <tr>\n",
              "      <th>1</th>\n",
              "      <td>Africa</td>\n",
              "      <td>Algeria</td>\n",
              "      <td>NaN</td>\n",
              "      <td>Algiers</td>\n",
              "      <td>1</td>\n",
              "      <td>2</td>\n",
              "      <td>1995</td>\n",
              "      <td>49.400002</td>\n",
              "      <td>51.361840</td>\n",
              "    </tr>\n",
              "    <tr>\n",
              "      <th>2</th>\n",
              "      <td>Africa</td>\n",
              "      <td>Algeria</td>\n",
              "      <td>NaN</td>\n",
              "      <td>Algiers</td>\n",
              "      <td>1</td>\n",
              "      <td>3</td>\n",
              "      <td>1995</td>\n",
              "      <td>48.799999</td>\n",
              "      <td>51.508732</td>\n",
              "    </tr>\n",
              "    <tr>\n",
              "      <th>3</th>\n",
              "      <td>Africa</td>\n",
              "      <td>Algeria</td>\n",
              "      <td>NaN</td>\n",
              "      <td>Algiers</td>\n",
              "      <td>1</td>\n",
              "      <td>4</td>\n",
              "      <td>1995</td>\n",
              "      <td>46.400002</td>\n",
              "      <td>50.984303</td>\n",
              "    </tr>\n",
              "    <tr>\n",
              "      <th>4</th>\n",
              "      <td>Africa</td>\n",
              "      <td>Algeria</td>\n",
              "      <td>NaN</td>\n",
              "      <td>Algiers</td>\n",
              "      <td>1</td>\n",
              "      <td>5</td>\n",
              "      <td>1995</td>\n",
              "      <td>47.900002</td>\n",
              "      <td>50.044192</td>\n",
              "    </tr>\n",
              "  </tbody>\n",
              "</table>\n",
              "</div>\n",
              "    <div class=\"colab-df-buttons\">\n",
              "\n",
              "  <div class=\"colab-df-container\">\n",
              "    <button class=\"colab-df-convert\" onclick=\"convertToInteractive('df-cc4fa845-0870-4178-acd6-79229e80f331')\"\n",
              "            title=\"Convert this dataframe to an interactive table.\"\n",
              "            style=\"display:none;\">\n",
              "\n",
              "  <svg xmlns=\"http://www.w3.org/2000/svg\" height=\"24px\" viewBox=\"0 -960 960 960\">\n",
              "    <path d=\"M120-120v-720h720v720H120Zm60-500h600v-160H180v160Zm220 220h160v-160H400v160Zm0 220h160v-160H400v160ZM180-400h160v-160H180v160Zm440 0h160v-160H620v160ZM180-180h160v-160H180v160Zm440 0h160v-160H620v160Z\"/>\n",
              "  </svg>\n",
              "    </button>\n",
              "\n",
              "  <style>\n",
              "    .colab-df-container {\n",
              "      display:flex;\n",
              "      gap: 12px;\n",
              "    }\n",
              "\n",
              "    .colab-df-convert {\n",
              "      background-color: #E8F0FE;\n",
              "      border: none;\n",
              "      border-radius: 50%;\n",
              "      cursor: pointer;\n",
              "      display: none;\n",
              "      fill: #1967D2;\n",
              "      height: 32px;\n",
              "      padding: 0 0 0 0;\n",
              "      width: 32px;\n",
              "    }\n",
              "\n",
              "    .colab-df-convert:hover {\n",
              "      background-color: #E2EBFA;\n",
              "      box-shadow: 0px 1px 2px rgba(60, 64, 67, 0.3), 0px 1px 3px 1px rgba(60, 64, 67, 0.15);\n",
              "      fill: #174EA6;\n",
              "    }\n",
              "\n",
              "    .colab-df-buttons div {\n",
              "      margin-bottom: 4px;\n",
              "    }\n",
              "\n",
              "    [theme=dark] .colab-df-convert {\n",
              "      background-color: #3B4455;\n",
              "      fill: #D2E3FC;\n",
              "    }\n",
              "\n",
              "    [theme=dark] .colab-df-convert:hover {\n",
              "      background-color: #434B5C;\n",
              "      box-shadow: 0px 1px 3px 1px rgba(0, 0, 0, 0.15);\n",
              "      filter: drop-shadow(0px 1px 2px rgba(0, 0, 0, 0.3));\n",
              "      fill: #FFFFFF;\n",
              "    }\n",
              "  </style>\n",
              "\n",
              "    <script>\n",
              "      const buttonEl =\n",
              "        document.querySelector('#df-cc4fa845-0870-4178-acd6-79229e80f331 button.colab-df-convert');\n",
              "      buttonEl.style.display =\n",
              "        google.colab.kernel.accessAllowed ? 'block' : 'none';\n",
              "\n",
              "      async function convertToInteractive(key) {\n",
              "        const element = document.querySelector('#df-cc4fa845-0870-4178-acd6-79229e80f331');\n",
              "        const dataTable =\n",
              "          await google.colab.kernel.invokeFunction('convertToInteractive',\n",
              "                                                    [key], {});\n",
              "        if (!dataTable) return;\n",
              "\n",
              "        const docLinkHtml = 'Like what you see? Visit the ' +\n",
              "          '<a target=\"_blank\" href=https://colab.research.google.com/notebooks/data_table.ipynb>data table notebook</a>'\n",
              "          + ' to learn more about interactive tables.';\n",
              "        element.innerHTML = '';\n",
              "        dataTable['output_type'] = 'display_data';\n",
              "        await google.colab.output.renderOutput(dataTable, element);\n",
              "        const docLink = document.createElement('div');\n",
              "        docLink.innerHTML = docLinkHtml;\n",
              "        element.appendChild(docLink);\n",
              "      }\n",
              "    </script>\n",
              "  </div>\n",
              "\n",
              "\n",
              "<div id=\"df-06f991b5-f547-4ecc-aa14-61b2286753d2\">\n",
              "  <button class=\"colab-df-quickchart\" onclick=\"quickchart('df-06f991b5-f547-4ecc-aa14-61b2286753d2')\"\n",
              "            title=\"Suggest charts\"\n",
              "            style=\"display:none;\">\n",
              "\n",
              "<svg xmlns=\"http://www.w3.org/2000/svg\" height=\"24px\"viewBox=\"0 0 24 24\"\n",
              "     width=\"24px\">\n",
              "    <g>\n",
              "        <path d=\"M19 3H5c-1.1 0-2 .9-2 2v14c0 1.1.9 2 2 2h14c1.1 0 2-.9 2-2V5c0-1.1-.9-2-2-2zM9 17H7v-7h2v7zm4 0h-2V7h2v10zm4 0h-2v-4h2v4z\"/>\n",
              "    </g>\n",
              "</svg>\n",
              "  </button>\n",
              "\n",
              "<style>\n",
              "  .colab-df-quickchart {\n",
              "      --bg-color: #E8F0FE;\n",
              "      --fill-color: #1967D2;\n",
              "      --hover-bg-color: #E2EBFA;\n",
              "      --hover-fill-color: #174EA6;\n",
              "      --disabled-fill-color: #AAA;\n",
              "      --disabled-bg-color: #DDD;\n",
              "  }\n",
              "\n",
              "  [theme=dark] .colab-df-quickchart {\n",
              "      --bg-color: #3B4455;\n",
              "      --fill-color: #D2E3FC;\n",
              "      --hover-bg-color: #434B5C;\n",
              "      --hover-fill-color: #FFFFFF;\n",
              "      --disabled-bg-color: #3B4455;\n",
              "      --disabled-fill-color: #666;\n",
              "  }\n",
              "\n",
              "  .colab-df-quickchart {\n",
              "    background-color: var(--bg-color);\n",
              "    border: none;\n",
              "    border-radius: 50%;\n",
              "    cursor: pointer;\n",
              "    display: none;\n",
              "    fill: var(--fill-color);\n",
              "    height: 32px;\n",
              "    padding: 0;\n",
              "    width: 32px;\n",
              "  }\n",
              "\n",
              "  .colab-df-quickchart:hover {\n",
              "    background-color: var(--hover-bg-color);\n",
              "    box-shadow: 0 1px 2px rgba(60, 64, 67, 0.3), 0 1px 3px 1px rgba(60, 64, 67, 0.15);\n",
              "    fill: var(--button-hover-fill-color);\n",
              "  }\n",
              "\n",
              "  .colab-df-quickchart-complete:disabled,\n",
              "  .colab-df-quickchart-complete:disabled:hover {\n",
              "    background-color: var(--disabled-bg-color);\n",
              "    fill: var(--disabled-fill-color);\n",
              "    box-shadow: none;\n",
              "  }\n",
              "\n",
              "  .colab-df-spinner {\n",
              "    border: 2px solid var(--fill-color);\n",
              "    border-color: transparent;\n",
              "    border-bottom-color: var(--fill-color);\n",
              "    animation:\n",
              "      spin 1s steps(1) infinite;\n",
              "  }\n",
              "\n",
              "  @keyframes spin {\n",
              "    0% {\n",
              "      border-color: transparent;\n",
              "      border-bottom-color: var(--fill-color);\n",
              "      border-left-color: var(--fill-color);\n",
              "    }\n",
              "    20% {\n",
              "      border-color: transparent;\n",
              "      border-left-color: var(--fill-color);\n",
              "      border-top-color: var(--fill-color);\n",
              "    }\n",
              "    30% {\n",
              "      border-color: transparent;\n",
              "      border-left-color: var(--fill-color);\n",
              "      border-top-color: var(--fill-color);\n",
              "      border-right-color: var(--fill-color);\n",
              "    }\n",
              "    40% {\n",
              "      border-color: transparent;\n",
              "      border-right-color: var(--fill-color);\n",
              "      border-top-color: var(--fill-color);\n",
              "    }\n",
              "    60% {\n",
              "      border-color: transparent;\n",
              "      border-right-color: var(--fill-color);\n",
              "    }\n",
              "    80% {\n",
              "      border-color: transparent;\n",
              "      border-right-color: var(--fill-color);\n",
              "      border-bottom-color: var(--fill-color);\n",
              "    }\n",
              "    90% {\n",
              "      border-color: transparent;\n",
              "      border-bottom-color: var(--fill-color);\n",
              "    }\n",
              "  }\n",
              "</style>\n",
              "\n",
              "  <script>\n",
              "    async function quickchart(key) {\n",
              "      const quickchartButtonEl =\n",
              "        document.querySelector('#' + key + ' button');\n",
              "      quickchartButtonEl.disabled = true;  // To prevent multiple clicks.\n",
              "      quickchartButtonEl.classList.add('colab-df-spinner');\n",
              "      try {\n",
              "        const charts = await google.colab.kernel.invokeFunction(\n",
              "            'suggestCharts', [key], {});\n",
              "      } catch (error) {\n",
              "        console.error('Error during call to suggestCharts:', error);\n",
              "      }\n",
              "      quickchartButtonEl.classList.remove('colab-df-spinner');\n",
              "      quickchartButtonEl.classList.add('colab-df-quickchart-complete');\n",
              "    }\n",
              "    (() => {\n",
              "      let quickchartButtonEl =\n",
              "        document.querySelector('#df-06f991b5-f547-4ecc-aa14-61b2286753d2 button');\n",
              "      quickchartButtonEl.style.display =\n",
              "        google.colab.kernel.accessAllowed ? 'block' : 'none';\n",
              "    })();\n",
              "  </script>\n",
              "</div>\n",
              "\n",
              "    </div>\n",
              "  </div>\n"
            ],
            "application/vnd.google.colaboratory.intrinsic+json": {
              "type": "dataframe",
              "variable_name": "predictions",
              "summary": "{\n  \"name\": \"predictions\",\n  \"rows\": 9143,\n  \"fields\": [\n    {\n      \"column\": \"Region\",\n      \"properties\": {\n        \"dtype\": \"category\",\n        \"num_unique_values\": 1,\n        \"samples\": [\n          \"Africa\"\n        ],\n        \"semantic_type\": \"\",\n        \"description\": \"\"\n      }\n    },\n    {\n      \"column\": \"Country\",\n      \"properties\": {\n        \"dtype\": \"category\",\n        \"num_unique_values\": 1,\n        \"samples\": [\n          \"Algeria\"\n        ],\n        \"semantic_type\": \"\",\n        \"description\": \"\"\n      }\n    },\n    {\n      \"column\": \"State\",\n      \"properties\": {\n        \"dtype\": \"number\",\n        \"std\": null,\n        \"min\": null,\n        \"max\": null,\n        \"num_unique_values\": 0,\n        \"samples\": [],\n        \"semantic_type\": \"\",\n        \"description\": \"\"\n      }\n    },\n    {\n      \"column\": \"City\",\n      \"properties\": {\n        \"dtype\": \"category\",\n        \"num_unique_values\": 1,\n        \"samples\": [],\n        \"semantic_type\": \"\",\n        \"description\": \"\"\n      }\n    },\n    {\n      \"column\": \"Month\",\n      \"properties\": {\n        \"dtype\": \"int8\",\n        \"num_unique_values\": 12,\n        \"samples\": [],\n        \"semantic_type\": \"\",\n        \"description\": \"\"\n      }\n    },\n    {\n      \"column\": \"Day\",\n      \"properties\": {\n        \"dtype\": \"int8\",\n        \"num_unique_values\": 31,\n        \"samples\": [],\n        \"semantic_type\": \"\",\n        \"description\": \"\"\n      }\n    },\n    {\n      \"column\": \"Year\",\n      \"properties\": {\n        \"dtype\": \"int32\",\n        \"num_unique_values\": 26,\n        \"samples\": [],\n        \"semantic_type\": \"\",\n        \"description\": \"\"\n      }\n    },\n    {\n      \"column\": \"AvgTemperature\",\n      \"properties\": {\n        \"dtype\": \"float32\",\n        \"num_unique_values\": 493,\n        \"samples\": [],\n        \"semantic_type\": \"\",\n        \"description\": \"\"\n      }\n    },\n    {\n      \"column\": \"prediction_label\",\n      \"properties\": {\n        \"dtype\": \"number\",\n        \"std\": 11.670611683372249,\n        \"min\": -79.2775487662791,\n        \"max\": 84.53467896119014,\n        \"num_unique_values\": 9142,\n        \"samples\": [],\n        \"semantic_type\": \"\",\n        \"description\": \"\"\n      }\n    }\n  ]\n}"
            }
          },
          "metadata": {},
          "execution_count": 8
        }
      ],
      "source": [
        "predictions = predict_model(final_model, data=df)\n",
        "predictions.head()"
      ]
    }
  ],
  "metadata": {
    "colab": {
      "provenance": [],
      "authorship_tag": "ABX9TyOBzwA5QlCqlMJxZY6pEci3",
      "include_colab_link": true
    },
    "kernelspec": {
      "display_name": "Python 3",
      "name": "python3"
    },
    "language_info": {
      "name": "python"
    },
    "widgets": {
      "application/vnd.jupyter.widget-state+json": {
        "2417082aa0a74e81ab0d6182e45d8985": {
          "model_module": "@jupyter-widgets/controls",
          "model_name": "HBoxModel",
          "model_module_version": "1.5.0",
          "state": {
            "_dom_classes": [],
            "_model_module": "@jupyter-widgets/controls",
            "_model_module_version": "1.5.0",
            "_model_name": "HBoxModel",
            "_view_count": null,
            "_view_module": "@jupyter-widgets/controls",
            "_view_module_version": "1.5.0",
            "_view_name": "HBoxView",
            "box_style": "",
            "children": [
              "IPY_MODEL_cf3cc16177164efe90914fc85635f18e",
              "IPY_MODEL_8e0ee30b547343419a36fbbe56ddfdbf",
              "IPY_MODEL_552c84bdcd8c433280232b2054b9be92"
            ],
            "layout": "IPY_MODEL_c3d9b7d3682d4a82beac05128f384c5a"
          }
        },
        "cf3cc16177164efe90914fc85635f18e": {
          "model_module": "@jupyter-widgets/controls",
          "model_name": "HTMLModel",
          "model_module_version": "1.5.0",
          "state": {
            "_dom_classes": [],
            "_model_module": "@jupyter-widgets/controls",
            "_model_module_version": "1.5.0",
            "_model_name": "HTMLModel",
            "_view_count": null,
            "_view_module": "@jupyter-widgets/controls",
            "_view_module_version": "1.5.0",
            "_view_name": "HTMLView",
            "description": "",
            "description_tooltip": null,
            "layout": "IPY_MODEL_f2c64ee6901c4540bcc84546cf934eb5",
            "placeholder": "​",
            "style": "IPY_MODEL_9689ee806dc14defa80891f039d2353c",
            "value": "Processing: 100%"
          }
        },
        "8e0ee30b547343419a36fbbe56ddfdbf": {
          "model_module": "@jupyter-widgets/controls",
          "model_name": "FloatProgressModel",
          "model_module_version": "1.5.0",
          "state": {
            "_dom_classes": [],
            "_model_module": "@jupyter-widgets/controls",
            "_model_module_version": "1.5.0",
            "_model_name": "FloatProgressModel",
            "_view_count": null,
            "_view_module": "@jupyter-widgets/controls",
            "_view_module_version": "1.5.0",
            "_view_name": "ProgressView",
            "bar_style": "",
            "description": "",
            "description_tooltip": null,
            "layout": "IPY_MODEL_91aaac785b80428eb5f8ba03707e150d",
            "max": 85,
            "min": 0,
            "orientation": "horizontal",
            "style": "IPY_MODEL_80a55cfcf9764c3e9ad27346023d759c",
            "value": 85
          }
        },
        "552c84bdcd8c433280232b2054b9be92": {
          "model_module": "@jupyter-widgets/controls",
          "model_name": "HTMLModel",
          "model_module_version": "1.5.0",
          "state": {
            "_dom_classes": [],
            "_model_module": "@jupyter-widgets/controls",
            "_model_module_version": "1.5.0",
            "_model_name": "HTMLModel",
            "_view_count": null,
            "_view_module": "@jupyter-widgets/controls",
            "_view_module_version": "1.5.0",
            "_view_name": "HTMLView",
            "description": "",
            "description_tooltip": null,
            "layout": "IPY_MODEL_708059c4dbb647cba5aed2b55e8058ad",
            "placeholder": "​",
            "style": "IPY_MODEL_a2e2532d1a4443638b31433a76f91145",
            "value": " 85/85 [01:36&lt;00:00,  1.53s/it]"
          }
        },
        "c3d9b7d3682d4a82beac05128f384c5a": {
          "model_module": "@jupyter-widgets/base",
          "model_name": "LayoutModel",
          "model_module_version": "1.2.0",
          "state": {
            "_model_module": "@jupyter-widgets/base",
            "_model_module_version": "1.2.0",
            "_model_name": "LayoutModel",
            "_view_count": null,
            "_view_module": "@jupyter-widgets/base",
            "_view_module_version": "1.2.0",
            "_view_name": "LayoutView",
            "align_content": null,
            "align_items": null,
            "align_self": null,
            "border": null,
            "bottom": null,
            "display": null,
            "flex": null,
            "flex_flow": null,
            "grid_area": null,
            "grid_auto_columns": null,
            "grid_auto_flow": null,
            "grid_auto_rows": null,
            "grid_column": null,
            "grid_gap": null,
            "grid_row": null,
            "grid_template_areas": null,
            "grid_template_columns": null,
            "grid_template_rows": null,
            "height": null,
            "justify_content": null,
            "justify_items": null,
            "left": null,
            "margin": null,
            "max_height": null,
            "max_width": null,
            "min_height": null,
            "min_width": null,
            "object_fit": null,
            "object_position": null,
            "order": null,
            "overflow": null,
            "overflow_x": null,
            "overflow_y": null,
            "padding": null,
            "right": null,
            "top": null,
            "visibility": "hidden",
            "width": null
          }
        },
        "f2c64ee6901c4540bcc84546cf934eb5": {
          "model_module": "@jupyter-widgets/base",
          "model_name": "LayoutModel",
          "model_module_version": "1.2.0",
          "state": {
            "_model_module": "@jupyter-widgets/base",
            "_model_module_version": "1.2.0",
            "_model_name": "LayoutModel",
            "_view_count": null,
            "_view_module": "@jupyter-widgets/base",
            "_view_module_version": "1.2.0",
            "_view_name": "LayoutView",
            "align_content": null,
            "align_items": null,
            "align_self": null,
            "border": null,
            "bottom": null,
            "display": null,
            "flex": null,
            "flex_flow": null,
            "grid_area": null,
            "grid_auto_columns": null,
            "grid_auto_flow": null,
            "grid_auto_rows": null,
            "grid_column": null,
            "grid_gap": null,
            "grid_row": null,
            "grid_template_areas": null,
            "grid_template_columns": null,
            "grid_template_rows": null,
            "height": null,
            "justify_content": null,
            "justify_items": null,
            "left": null,
            "margin": null,
            "max_height": null,
            "max_width": null,
            "min_height": null,
            "min_width": null,
            "object_fit": null,
            "object_position": null,
            "order": null,
            "overflow": null,
            "overflow_x": null,
            "overflow_y": null,
            "padding": null,
            "right": null,
            "top": null,
            "visibility": null,
            "width": null
          }
        },
        "9689ee806dc14defa80891f039d2353c": {
          "model_module": "@jupyter-widgets/controls",
          "model_name": "DescriptionStyleModel",
          "model_module_version": "1.5.0",
          "state": {
            "_model_module": "@jupyter-widgets/controls",
            "_model_module_version": "1.5.0",
            "_model_name": "DescriptionStyleModel",
            "_view_count": null,
            "_view_module": "@jupyter-widgets/base",
            "_view_module_version": "1.2.0",
            "_view_name": "StyleView",
            "description_width": ""
          }
        },
        "91aaac785b80428eb5f8ba03707e150d": {
          "model_module": "@jupyter-widgets/base",
          "model_name": "LayoutModel",
          "model_module_version": "1.2.0",
          "state": {
            "_model_module": "@jupyter-widgets/base",
            "_model_module_version": "1.2.0",
            "_model_name": "LayoutModel",
            "_view_count": null,
            "_view_module": "@jupyter-widgets/base",
            "_view_module_version": "1.2.0",
            "_view_name": "LayoutView",
            "align_content": null,
            "align_items": null,
            "align_self": null,
            "border": null,
            "bottom": null,
            "display": null,
            "flex": null,
            "flex_flow": null,
            "grid_area": null,
            "grid_auto_columns": null,
            "grid_auto_flow": null,
            "grid_auto_rows": null,
            "grid_column": null,
            "grid_gap": null,
            "grid_row": null,
            "grid_template_areas": null,
            "grid_template_columns": null,
            "grid_template_rows": null,
            "height": null,
            "justify_content": null,
            "justify_items": null,
            "left": null,
            "margin": null,
            "max_height": null,
            "max_width": null,
            "min_height": null,
            "min_width": null,
            "object_fit": null,
            "object_position": null,
            "order": null,
            "overflow": null,
            "overflow_x": null,
            "overflow_y": null,
            "padding": null,
            "right": null,
            "top": null,
            "visibility": null,
            "width": null
          }
        },
        "80a55cfcf9764c3e9ad27346023d759c": {
          "model_module": "@jupyter-widgets/controls",
          "model_name": "ProgressStyleModel",
          "model_module_version": "1.5.0",
          "state": {
            "_model_module": "@jupyter-widgets/controls",
            "_model_module_version": "1.5.0",
            "_model_name": "ProgressStyleModel",
            "_view_count": null,
            "_view_module": "@jupyter-widgets/base",
            "_view_module_version": "1.2.0",
            "_view_name": "StyleView",
            "bar_color": null,
            "description_width": ""
          }
        },
        "708059c4dbb647cba5aed2b55e8058ad": {
          "model_module": "@jupyter-widgets/base",
          "model_name": "LayoutModel",
          "model_module_version": "1.2.0",
          "state": {
            "_model_module": "@jupyter-widgets/base",
            "_model_module_version": "1.2.0",
            "_model_name": "LayoutModel",
            "_view_count": null,
            "_view_module": "@jupyter-widgets/base",
            "_view_module_version": "1.2.0",
            "_view_name": "LayoutView",
            "align_content": null,
            "align_items": null,
            "align_self": null,
            "border": null,
            "bottom": null,
            "display": null,
            "flex": null,
            "flex_flow": null,
            "grid_area": null,
            "grid_auto_columns": null,
            "grid_auto_flow": null,
            "grid_auto_rows": null,
            "grid_column": null,
            "grid_gap": null,
            "grid_row": null,
            "grid_template_areas": null,
            "grid_template_columns": null,
            "grid_template_rows": null,
            "height": null,
            "justify_content": null,
            "justify_items": null,
            "left": null,
            "margin": null,
            "max_height": null,
            "max_width": null,
            "min_height": null,
            "min_width": null,
            "object_fit": null,
            "object_position": null,
            "order": null,
            "overflow": null,
            "overflow_x": null,
            "overflow_y": null,
            "padding": null,
            "right": null,
            "top": null,
            "visibility": null,
            "width": null
          }
        },
        "a2e2532d1a4443638b31433a76f91145": {
          "model_module": "@jupyter-widgets/controls",
          "model_name": "DescriptionStyleModel",
          "model_module_version": "1.5.0",
          "state": {
            "_model_module": "@jupyter-widgets/controls",
            "_model_module_version": "1.5.0",
            "_model_name": "DescriptionStyleModel",
            "_view_count": null,
            "_view_module": "@jupyter-widgets/base",
            "_view_module_version": "1.2.0",
            "_view_name": "StyleView",
            "description_width": ""
          }
        },
        "b9a84cf2af7340d5aa3f68b4d5a38ba7": {
          "model_module": "@jupyter-widgets/controls",
          "model_name": "VBoxModel",
          "model_module_version": "1.5.0",
          "state": {
            "_dom_classes": [
              "widget-interact"
            ],
            "_model_module": "@jupyter-widgets/controls",
            "_model_module_version": "1.5.0",
            "_model_name": "VBoxModel",
            "_view_count": null,
            "_view_module": "@jupyter-widgets/controls",
            "_view_module_version": "1.5.0",
            "_view_name": "VBoxView",
            "box_style": "",
            "children": [
              "IPY_MODEL_1c2b7637a532434bbddc95a09288b625",
              "IPY_MODEL_f077adcefe1c42e0bd9faa3f4ab0ed79"
            ],
            "layout": "IPY_MODEL_3449b14a13d644bd885e96cf4a21a01c"
          }
        },
        "1c2b7637a532434bbddc95a09288b625": {
          "model_module": "@jupyter-widgets/controls",
          "model_name": "ToggleButtonsModel",
          "model_module_version": "1.5.0",
          "state": {
            "_dom_classes": [],
            "_model_module": "@jupyter-widgets/controls",
            "_model_module_version": "1.5.0",
            "_model_name": "ToggleButtonsModel",
            "_options_labels": [
              "Pipeline Plot",
              "Hyperparameters",
              "Residuals",
              "Prediction Error",
              "Cooks Distance",
              "Feature Selection",
              "Learning Curve",
              "Manifold Learning",
              "Validation Curve",
              "Feature Importance",
              "Feature Importance (All)",
              "Decision Tree",
              "Interactive Residuals"
            ],
            "_view_count": null,
            "_view_module": "@jupyter-widgets/controls",
            "_view_module_version": "1.5.0",
            "_view_name": "ToggleButtonsView",
            "button_style": "",
            "description": "Plot Type:",
            "description_tooltip": null,
            "disabled": false,
            "icons": [
              ""
            ],
            "index": 0,
            "layout": "IPY_MODEL_0eda82f376f34233b7a99d3ab0cc104d",
            "style": "IPY_MODEL_9d6aef374eca4d3cb5eb0fef33b078b1",
            "tooltips": []
          }
        },
        "f077adcefe1c42e0bd9faa3f4ab0ed79": {
          "model_module": "@jupyter-widgets/output",
          "model_name": "OutputModel",
          "model_module_version": "1.0.0",
          "state": {
            "_dom_classes": [],
            "_model_module": "@jupyter-widgets/output",
            "_model_module_version": "1.0.0",
            "_model_name": "OutputModel",
            "_view_count": null,
            "_view_module": "@jupyter-widgets/output",
            "_view_module_version": "1.0.0",
            "_view_name": "OutputView",
            "layout": "IPY_MODEL_7080edfe27254e5393597e27142cfcb0",
            "msg_id": "",
            "outputs": [
              {
                "output_type": "display_data",
                "data": {
                  "text/plain": "<Figure size 1700x600 with 1 Axes>",
                  "image/png": "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\n"
                },
                "metadata": {}
              }
            ]
          }
        },
        "3449b14a13d644bd885e96cf4a21a01c": {
          "model_module": "@jupyter-widgets/base",
          "model_name": "LayoutModel",
          "model_module_version": "1.2.0",
          "state": {
            "_model_module": "@jupyter-widgets/base",
            "_model_module_version": "1.2.0",
            "_model_name": "LayoutModel",
            "_view_count": null,
            "_view_module": "@jupyter-widgets/base",
            "_view_module_version": "1.2.0",
            "_view_name": "LayoutView",
            "align_content": null,
            "align_items": null,
            "align_self": null,
            "border": null,
            "bottom": null,
            "display": null,
            "flex": null,
            "flex_flow": null,
            "grid_area": null,
            "grid_auto_columns": null,
            "grid_auto_flow": null,
            "grid_auto_rows": null,
            "grid_column": null,
            "grid_gap": null,
            "grid_row": null,
            "grid_template_areas": null,
            "grid_template_columns": null,
            "grid_template_rows": null,
            "height": null,
            "justify_content": null,
            "justify_items": null,
            "left": null,
            "margin": null,
            "max_height": null,
            "max_width": null,
            "min_height": null,
            "min_width": null,
            "object_fit": null,
            "object_position": null,
            "order": null,
            "overflow": null,
            "overflow_x": null,
            "overflow_y": null,
            "padding": null,
            "right": null,
            "top": null,
            "visibility": null,
            "width": null
          }
        },
        "0eda82f376f34233b7a99d3ab0cc104d": {
          "model_module": "@jupyter-widgets/base",
          "model_name": "LayoutModel",
          "model_module_version": "1.2.0",
          "state": {
            "_model_module": "@jupyter-widgets/base",
            "_model_module_version": "1.2.0",
            "_model_name": "LayoutModel",
            "_view_count": null,
            "_view_module": "@jupyter-widgets/base",
            "_view_module_version": "1.2.0",
            "_view_name": "LayoutView",
            "align_content": null,
            "align_items": null,
            "align_self": null,
            "border": null,
            "bottom": null,
            "display": null,
            "flex": null,
            "flex_flow": null,
            "grid_area": null,
            "grid_auto_columns": null,
            "grid_auto_flow": null,
            "grid_auto_rows": null,
            "grid_column": null,
            "grid_gap": null,
            "grid_row": null,
            "grid_template_areas": null,
            "grid_template_columns": null,
            "grid_template_rows": null,
            "height": null,
            "justify_content": null,
            "justify_items": null,
            "left": null,
            "margin": null,
            "max_height": null,
            "max_width": null,
            "min_height": null,
            "min_width": null,
            "object_fit": null,
            "object_position": null,
            "order": null,
            "overflow": null,
            "overflow_x": null,
            "overflow_y": null,
            "padding": null,
            "right": null,
            "top": null,
            "visibility": null,
            "width": null
          }
        },
        "9d6aef374eca4d3cb5eb0fef33b078b1": {
          "model_module": "@jupyter-widgets/controls",
          "model_name": "ToggleButtonsStyleModel",
          "model_module_version": "1.5.0",
          "state": {
            "_model_module": "@jupyter-widgets/controls",
            "_model_module_version": "1.5.0",
            "_model_name": "ToggleButtonsStyleModel",
            "_view_count": null,
            "_view_module": "@jupyter-widgets/base",
            "_view_module_version": "1.2.0",
            "_view_name": "StyleView",
            "button_width": "",
            "description_width": "",
            "font_weight": ""
          }
        },
        "7080edfe27254e5393597e27142cfcb0": {
          "model_module": "@jupyter-widgets/base",
          "model_name": "LayoutModel",
          "model_module_version": "1.2.0",
          "state": {
            "_model_module": "@jupyter-widgets/base",
            "_model_module_version": "1.2.0",
            "_model_name": "LayoutModel",
            "_view_count": null,
            "_view_module": "@jupyter-widgets/base",
            "_view_module_version": "1.2.0",
            "_view_name": "LayoutView",
            "align_content": null,
            "align_items": null,
            "align_self": null,
            "border": null,
            "bottom": null,
            "display": null,
            "flex": null,
            "flex_flow": null,
            "grid_area": null,
            "grid_auto_columns": null,
            "grid_auto_flow": null,
            "grid_auto_rows": null,
            "grid_column": null,
            "grid_gap": null,
            "grid_row": null,
            "grid_template_areas": null,
            "grid_template_columns": null,
            "grid_template_rows": null,
            "height": null,
            "justify_content": null,
            "justify_items": null,
            "left": null,
            "margin": null,
            "max_height": null,
            "max_width": null,
            "min_height": null,
            "min_width": null,
            "object_fit": null,
            "object_position": null,
            "order": null,
            "overflow": null,
            "overflow_x": null,
            "overflow_y": null,
            "padding": null,
            "right": null,
            "top": null,
            "visibility": null,
            "width": null
          }
        },
        "4f4cbec0cc9440abaab3b7098efde182": {
          "model_module": "@jupyter-widgets/controls",
          "model_name": "HBoxModel",
          "model_module_version": "1.5.0",
          "state": {
            "_dom_classes": [],
            "_model_module": "@jupyter-widgets/controls",
            "_model_module_version": "1.5.0",
            "_model_name": "HBoxModel",
            "_view_count": null,
            "_view_module": "@jupyter-widgets/controls",
            "_view_module_version": "1.5.0",
            "_view_name": "HBoxView",
            "box_style": "",
            "children": [
              "IPY_MODEL_b3b5613cb3384b669ae03b3e82ec6962",
              "IPY_MODEL_e3f9678b80a04889a3c9835dce275d2b",
              "IPY_MODEL_3a418d9104864e729954e6b51a584915"
            ],
            "layout": "IPY_MODEL_ee50419fc94246189686737a75462f4f"
          }
        },
        "b3b5613cb3384b669ae03b3e82ec6962": {
          "model_module": "@jupyter-widgets/controls",
          "model_name": "HTMLModel",
          "model_module_version": "1.5.0",
          "state": {
            "_dom_classes": [],
            "_model_module": "@jupyter-widgets/controls",
            "_model_module_version": "1.5.0",
            "_model_name": "HTMLModel",
            "_view_count": null,
            "_view_module": "@jupyter-widgets/controls",
            "_view_module_version": "1.5.0",
            "_view_name": "HTMLView",
            "description": "",
            "description_tooltip": null,
            "layout": "IPY_MODEL_0de511012aed47268fe97b7a585183a4",
            "placeholder": "​",
            "style": "IPY_MODEL_8a9c43c1fbfe4542a6c8b22b266e94ac",
            "value": "Processing: 100%"
          }
        },
        "e3f9678b80a04889a3c9835dce275d2b": {
          "model_module": "@jupyter-widgets/controls",
          "model_name": "FloatProgressModel",
          "model_module_version": "1.5.0",
          "state": {
            "_dom_classes": [],
            "_model_module": "@jupyter-widgets/controls",
            "_model_module_version": "1.5.0",
            "_model_name": "FloatProgressModel",
            "_view_count": null,
            "_view_module": "@jupyter-widgets/controls",
            "_view_module_version": "1.5.0",
            "_view_name": "ProgressView",
            "bar_style": "",
            "description": "",
            "description_tooltip": null,
            "layout": "IPY_MODEL_7b0fc5b652294603bbedd82bb6f5bc32",
            "max": 7,
            "min": 0,
            "orientation": "horizontal",
            "style": "IPY_MODEL_753d691949bb42908868c1372e56ba36",
            "value": 7
          }
        },
        "3a418d9104864e729954e6b51a584915": {
          "model_module": "@jupyter-widgets/controls",
          "model_name": "HTMLModel",
          "model_module_version": "1.5.0",
          "state": {
            "_dom_classes": [],
            "_model_module": "@jupyter-widgets/controls",
            "_model_module_version": "1.5.0",
            "_model_name": "HTMLModel",
            "_view_count": null,
            "_view_module": "@jupyter-widgets/controls",
            "_view_module_version": "1.5.0",
            "_view_name": "HTMLView",
            "description": "",
            "description_tooltip": null,
            "layout": "IPY_MODEL_cbb0b0c5e372436683935bc642f8dfc3",
            "placeholder": "​",
            "style": "IPY_MODEL_fd62f2c79d9c4578b5d733786aaecfa1",
            "value": " 7/7 [00:33&lt;00:00,  3.84s/it]"
          }
        },
        "ee50419fc94246189686737a75462f4f": {
          "model_module": "@jupyter-widgets/base",
          "model_name": "LayoutModel",
          "model_module_version": "1.2.0",
          "state": {
            "_model_module": "@jupyter-widgets/base",
            "_model_module_version": "1.2.0",
            "_model_name": "LayoutModel",
            "_view_count": null,
            "_view_module": "@jupyter-widgets/base",
            "_view_module_version": "1.2.0",
            "_view_name": "LayoutView",
            "align_content": null,
            "align_items": null,
            "align_self": null,
            "border": null,
            "bottom": null,
            "display": null,
            "flex": null,
            "flex_flow": null,
            "grid_area": null,
            "grid_auto_columns": null,
            "grid_auto_flow": null,
            "grid_auto_rows": null,
            "grid_column": null,
            "grid_gap": null,
            "grid_row": null,
            "grid_template_areas": null,
            "grid_template_columns": null,
            "grid_template_rows": null,
            "height": null,
            "justify_content": null,
            "justify_items": null,
            "left": null,
            "margin": null,
            "max_height": null,
            "max_width": null,
            "min_height": null,
            "min_width": null,
            "object_fit": null,
            "object_position": null,
            "order": null,
            "overflow": null,
            "overflow_x": null,
            "overflow_y": null,
            "padding": null,
            "right": null,
            "top": null,
            "visibility": "hidden",
            "width": null
          }
        },
        "0de511012aed47268fe97b7a585183a4": {
          "model_module": "@jupyter-widgets/base",
          "model_name": "LayoutModel",
          "model_module_version": "1.2.0",
          "state": {
            "_model_module": "@jupyter-widgets/base",
            "_model_module_version": "1.2.0",
            "_model_name": "LayoutModel",
            "_view_count": null,
            "_view_module": "@jupyter-widgets/base",
            "_view_module_version": "1.2.0",
            "_view_name": "LayoutView",
            "align_content": null,
            "align_items": null,
            "align_self": null,
            "border": null,
            "bottom": null,
            "display": null,
            "flex": null,
            "flex_flow": null,
            "grid_area": null,
            "grid_auto_columns": null,
            "grid_auto_flow": null,
            "grid_auto_rows": null,
            "grid_column": null,
            "grid_gap": null,
            "grid_row": null,
            "grid_template_areas": null,
            "grid_template_columns": null,
            "grid_template_rows": null,
            "height": null,
            "justify_content": null,
            "justify_items": null,
            "left": null,
            "margin": null,
            "max_height": null,
            "max_width": null,
            "min_height": null,
            "min_width": null,
            "object_fit": null,
            "object_position": null,
            "order": null,
            "overflow": null,
            "overflow_x": null,
            "overflow_y": null,
            "padding": null,
            "right": null,
            "top": null,
            "visibility": null,
            "width": null
          }
        },
        "8a9c43c1fbfe4542a6c8b22b266e94ac": {
          "model_module": "@jupyter-widgets/controls",
          "model_name": "DescriptionStyleModel",
          "model_module_version": "1.5.0",
          "state": {
            "_model_module": "@jupyter-widgets/controls",
            "_model_module_version": "1.5.0",
            "_model_name": "DescriptionStyleModel",
            "_view_count": null,
            "_view_module": "@jupyter-widgets/base",
            "_view_module_version": "1.2.0",
            "_view_name": "StyleView",
            "description_width": ""
          }
        },
        "7b0fc5b652294603bbedd82bb6f5bc32": {
          "model_module": "@jupyter-widgets/base",
          "model_name": "LayoutModel",
          "model_module_version": "1.2.0",
          "state": {
            "_model_module": "@jupyter-widgets/base",
            "_model_module_version": "1.2.0",
            "_model_name": "LayoutModel",
            "_view_count": null,
            "_view_module": "@jupyter-widgets/base",
            "_view_module_version": "1.2.0",
            "_view_name": "LayoutView",
            "align_content": null,
            "align_items": null,
            "align_self": null,
            "border": null,
            "bottom": null,
            "display": null,
            "flex": null,
            "flex_flow": null,
            "grid_area": null,
            "grid_auto_columns": null,
            "grid_auto_flow": null,
            "grid_auto_rows": null,
            "grid_column": null,
            "grid_gap": null,
            "grid_row": null,
            "grid_template_areas": null,
            "grid_template_columns": null,
            "grid_template_rows": null,
            "height": null,
            "justify_content": null,
            "justify_items": null,
            "left": null,
            "margin": null,
            "max_height": null,
            "max_width": null,
            "min_height": null,
            "min_width": null,
            "object_fit": null,
            "object_position": null,
            "order": null,
            "overflow": null,
            "overflow_x": null,
            "overflow_y": null,
            "padding": null,
            "right": null,
            "top": null,
            "visibility": null,
            "width": null
          }
        },
        "753d691949bb42908868c1372e56ba36": {
          "model_module": "@jupyter-widgets/controls",
          "model_name": "ProgressStyleModel",
          "model_module_version": "1.5.0",
          "state": {
            "_model_module": "@jupyter-widgets/controls",
            "_model_module_version": "1.5.0",
            "_model_name": "ProgressStyleModel",
            "_view_count": null,
            "_view_module": "@jupyter-widgets/base",
            "_view_module_version": "1.2.0",
            "_view_name": "StyleView",
            "bar_color": null,
            "description_width": ""
          }
        },
        "cbb0b0c5e372436683935bc642f8dfc3": {
          "model_module": "@jupyter-widgets/base",
          "model_name": "LayoutModel",
          "model_module_version": "1.2.0",
          "state": {
            "_model_module": "@jupyter-widgets/base",
            "_model_module_version": "1.2.0",
            "_model_name": "LayoutModel",
            "_view_count": null,
            "_view_module": "@jupyter-widgets/base",
            "_view_module_version": "1.2.0",
            "_view_name": "LayoutView",
            "align_content": null,
            "align_items": null,
            "align_self": null,
            "border": null,
            "bottom": null,
            "display": null,
            "flex": null,
            "flex_flow": null,
            "grid_area": null,
            "grid_auto_columns": null,
            "grid_auto_flow": null,
            "grid_auto_rows": null,
            "grid_column": null,
            "grid_gap": null,
            "grid_row": null,
            "grid_template_areas": null,
            "grid_template_columns": null,
            "grid_template_rows": null,
            "height": null,
            "justify_content": null,
            "justify_items": null,
            "left": null,
            "margin": null,
            "max_height": null,
            "max_width": null,
            "min_height": null,
            "min_width": null,
            "object_fit": null,
            "object_position": null,
            "order": null,
            "overflow": null,
            "overflow_x": null,
            "overflow_y": null,
            "padding": null,
            "right": null,
            "top": null,
            "visibility": null,
            "width": null
          }
        },
        "fd62f2c79d9c4578b5d733786aaecfa1": {
          "model_module": "@jupyter-widgets/controls",
          "model_name": "DescriptionStyleModel",
          "model_module_version": "1.5.0",
          "state": {
            "_model_module": "@jupyter-widgets/controls",
            "_model_module_version": "1.5.0",
            "_model_name": "DescriptionStyleModel",
            "_view_count": null,
            "_view_module": "@jupyter-widgets/base",
            "_view_module_version": "1.2.0",
            "_view_name": "StyleView",
            "description_width": ""
          }
        },
        "4c50e9f9f06c48408e913d8bc8c5d82e": {
          "model_module": "@jupyter-widgets/base",
          "model_name": "LayoutModel",
          "model_module_version": "1.2.0",
          "state": {
            "_model_module": "@jupyter-widgets/base",
            "_model_module_version": "1.2.0",
            "_model_name": "LayoutModel",
            "_view_count": null,
            "_view_module": "@jupyter-widgets/base",
            "_view_module_version": "1.2.0",
            "_view_name": "LayoutView",
            "align_content": null,
            "align_items": null,
            "align_self": null,
            "border": null,
            "bottom": null,
            "display": null,
            "flex": null,
            "flex_flow": null,
            "grid_area": null,
            "grid_auto_columns": null,
            "grid_auto_flow": null,
            "grid_auto_rows": null,
            "grid_column": null,
            "grid_gap": null,
            "grid_row": null,
            "grid_template_areas": null,
            "grid_template_columns": null,
            "grid_template_rows": null,
            "height": null,
            "justify_content": null,
            "justify_items": null,
            "left": null,
            "margin": null,
            "max_height": null,
            "max_width": null,
            "min_height": null,
            "min_width": null,
            "object_fit": null,
            "object_position": null,
            "order": null,
            "overflow": null,
            "overflow_x": null,
            "overflow_y": null,
            "padding": null,
            "right": null,
            "top": null,
            "visibility": null,
            "width": null
          }
        },
        "f0de0c687c754c4f8377a19f64a27d62": {
          "model_module": "@jupyter-widgets/controls",
          "model_name": "ToggleButtonsStyleModel",
          "model_module_version": "1.5.0",
          "state": {
            "_model_module": "@jupyter-widgets/controls",
            "_model_module_version": "1.5.0",
            "_model_name": "ToggleButtonsStyleModel",
            "_view_count": null,
            "_view_module": "@jupyter-widgets/base",
            "_view_module_version": "1.2.0",
            "_view_name": "StyleView",
            "button_width": "",
            "description_width": "",
            "font_weight": ""
          }
        },
        "7d946aaee6314b4f891a9bd5556f8fd0": {
          "model_module": "@jupyter-widgets/base",
          "model_name": "LayoutModel",
          "model_module_version": "1.2.0",
          "state": {
            "_model_module": "@jupyter-widgets/base",
            "_model_module_version": "1.2.0",
            "_model_name": "LayoutModel",
            "_view_count": null,
            "_view_module": "@jupyter-widgets/base",
            "_view_module_version": "1.2.0",
            "_view_name": "LayoutView",
            "align_content": null,
            "align_items": null,
            "align_self": null,
            "border": null,
            "bottom": null,
            "display": null,
            "flex": null,
            "flex_flow": null,
            "grid_area": null,
            "grid_auto_columns": null,
            "grid_auto_flow": null,
            "grid_auto_rows": null,
            "grid_column": null,
            "grid_gap": null,
            "grid_row": null,
            "grid_template_areas": null,
            "grid_template_columns": null,
            "grid_template_rows": null,
            "height": null,
            "justify_content": null,
            "justify_items": null,
            "left": null,
            "margin": null,
            "max_height": null,
            "max_width": null,
            "min_height": null,
            "min_width": null,
            "object_fit": null,
            "object_position": null,
            "order": null,
            "overflow": null,
            "overflow_x": null,
            "overflow_y": null,
            "padding": null,
            "right": null,
            "top": null,
            "visibility": null,
            "width": null
          }
        },
        "4aa15ac2966d4a6f8807644071be357f": {
          "model_module": "@jupyter-widgets/base",
          "model_name": "LayoutModel",
          "model_module_version": "1.2.0",
          "state": {
            "_model_module": "@jupyter-widgets/base",
            "_model_module_version": "1.2.0",
            "_model_name": "LayoutModel",
            "_view_count": null,
            "_view_module": "@jupyter-widgets/base",
            "_view_module_version": "1.2.0",
            "_view_name": "LayoutView",
            "align_content": null,
            "align_items": null,
            "align_self": null,
            "border": null,
            "bottom": null,
            "display": null,
            "flex": null,
            "flex_flow": null,
            "grid_area": null,
            "grid_auto_columns": null,
            "grid_auto_flow": null,
            "grid_auto_rows": null,
            "grid_column": null,
            "grid_gap": null,
            "grid_row": null,
            "grid_template_areas": null,
            "grid_template_columns": null,
            "grid_template_rows": null,
            "height": null,
            "justify_content": null,
            "justify_items": null,
            "left": null,
            "margin": null,
            "max_height": null,
            "max_width": null,
            "min_height": null,
            "min_width": null,
            "object_fit": null,
            "object_position": null,
            "order": null,
            "overflow": null,
            "overflow_x": null,
            "overflow_y": null,
            "padding": null,
            "right": null,
            "top": null,
            "visibility": null,
            "width": null
          }
        },
        "04785a1efe2443f4abca947c1c037cf6": {
          "model_module": "@jupyter-widgets/controls",
          "model_name": "VBoxModel",
          "model_module_version": "1.5.0",
          "state": {
            "_dom_classes": [
              "widget-interact"
            ],
            "_model_module": "@jupyter-widgets/controls",
            "_model_module_version": "1.5.0",
            "_model_name": "VBoxModel",
            "_view_count": null,
            "_view_module": "@jupyter-widgets/controls",
            "_view_module_version": "1.5.0",
            "_view_name": "VBoxView",
            "box_style": "",
            "children": [
              "IPY_MODEL_72a9f724d9ba4dc4aed2714deddd88ad",
              "IPY_MODEL_2cec601145804285930ab2d5254fe772"
            ],
            "layout": "IPY_MODEL_7d946aaee6314b4f891a9bd5556f8fd0"
          }
        },
        "72a9f724d9ba4dc4aed2714deddd88ad": {
          "model_module": "@jupyter-widgets/controls",
          "model_name": "ToggleButtonsModel",
          "model_module_version": "1.5.0",
          "state": {
            "_dom_classes": [],
            "_model_module": "@jupyter-widgets/controls",
            "_model_module_version": "1.5.0",
            "_model_name": "ToggleButtonsModel",
            "_options_labels": [
              "Pipeline Plot",
              "Hyperparameters",
              "Residuals",
              "Prediction Error",
              "Cooks Distance",
              "Feature Selection",
              "Learning Curve",
              "Manifold Learning",
              "Validation Curve",
              "Feature Importance",
              "Feature Importance (All)",
              "Decision Tree",
              "Interactive Residuals"
            ],
            "_view_count": null,
            "_view_module": "@jupyter-widgets/controls",
            "_view_module_version": "1.5.0",
            "_view_name": "ToggleButtonsView",
            "button_style": "",
            "description": "Plot Type:",
            "description_tooltip": null,
            "disabled": false,
            "icons": [
              ""
            ],
            "index": 0,
            "layout": "IPY_MODEL_4c50e9f9f06c48408e913d8bc8c5d82e",
            "style": "IPY_MODEL_f0de0c687c754c4f8377a19f64a27d62",
            "tooltips": []
          }
        },
        "2cec601145804285930ab2d5254fe772": {
          "model_module": "@jupyter-widgets/output",
          "model_name": "OutputModel",
          "model_module_version": "1.0.0",
          "state": {
            "_dom_classes": [],
            "_model_module": "@jupyter-widgets/output",
            "_model_module_version": "1.0.0",
            "_model_name": "OutputModel",
            "_view_count": null,
            "_view_module": "@jupyter-widgets/output",
            "_view_module_version": "1.0.0",
            "_view_name": "OutputView",
            "layout": "IPY_MODEL_4aa15ac2966d4a6f8807644071be357f",
            "msg_id": "",
            "outputs": [
              {
                "output_type": "display_data",
                "data": {
                  "text/plain": "<Figure size 1700x600 with 1 Axes>",
                  "image/png": "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\n"
                },
                "metadata": {}
              }
            ]
          }
        }
      }
    }
  },
  "nbformat": 4,
  "nbformat_minor": 0
}